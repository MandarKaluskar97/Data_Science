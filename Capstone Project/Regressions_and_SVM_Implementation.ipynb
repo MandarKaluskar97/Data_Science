{
 "cells": [
  {
   "cell_type": "code",
   "execution_count": 50,
   "id": "9c47c2c3",
   "metadata": {},
   "outputs": [],
   "source": [
    "import numpy as np\n",
    "import pandas as pd\n",
    "import matplotlib.pyplot as plt\n",
    "import seaborn as sns\n",
    "from sklearn import preprocessing\n",
    "from sklearn.model_selection import train_test_split\n",
    "from sklearn.tree import DecisionTreeClassifier\n",
    "from sklearn.metrics import confusion_matrix\n",
    "from sklearn.metrics import accuracy_score\n",
    "from sklearn.metrics import roc_curve, auc\n",
    "import matplotlib.pyplot as plt\n",
    "from IPython.display import Image  \n",
    "from sklearn.tree import export_graphviz"
   ]
  },
  {
   "cell_type": "code",
   "execution_count": 51,
   "id": "a1eca61d",
   "metadata": {},
   "outputs": [],
   "source": [
    "import warnings"
   ]
  },
  {
   "cell_type": "code",
   "execution_count": 52,
   "id": "8e848e93",
   "metadata": {},
   "outputs": [],
   "source": [
    "warnings.filterwarnings(action='ignore')"
   ]
  },
  {
   "cell_type": "code",
   "execution_count": 53,
   "id": "33b2a779",
   "metadata": {},
   "outputs": [],
   "source": [
    "df = pd.read_csv('HR_Employee_Attrition_Data.csv')"
   ]
  },
  {
   "cell_type": "markdown",
   "id": "33f14a0b",
   "metadata": {},
   "source": [
    "# Data Cleaning"
   ]
  },
  {
   "cell_type": "code",
   "execution_count": 54,
   "id": "594f4a61",
   "metadata": {},
   "outputs": [
    {
     "data": {
      "text/plain": [
       "(2940, 31)"
      ]
     },
     "execution_count": 54,
     "metadata": {},
     "output_type": "execute_result"
    }
   ],
   "source": [
    "df.drop(['StandardHours'], axis=1, inplace=True)\n",
    "df.drop(['EmployeeCount'], axis=1, inplace=True)\n",
    "df.drop(['Over18'], axis=1, inplace=True)\n",
    "df.drop(['EmployeeNumber'], axis=1, inplace=True)\n",
    "df.shape"
   ]
  },
  {
   "cell_type": "markdown",
   "id": "96ef8259",
   "metadata": {},
   "source": [
    "### Removing Duplicates"
   ]
  },
  {
   "cell_type": "code",
   "execution_count": 55,
   "id": "b1067c5c",
   "metadata": {},
   "outputs": [
    {
     "name": "stdout",
     "output_type": "stream",
     "text": [
      "(1470, 31)\n"
     ]
    },
    {
     "data": {
      "text/plain": [
       "Int64Index([   0,    1,    2,    3,    4,    5,    6,    7,    8,    9,\n",
       "            ...\n",
       "            1460, 1461, 1462, 1463, 1464, 1465, 1466, 1467, 1468, 1469],\n",
       "           dtype='int64', length=1470)"
      ]
     },
     "execution_count": 55,
     "metadata": {},
     "output_type": "execute_result"
    }
   ],
   "source": [
    "df.drop_duplicates(inplace=True)\n",
    "print(df.shape)\n",
    "df.index"
   ]
  },
  {
   "cell_type": "markdown",
   "id": "7791ea80",
   "metadata": {},
   "source": [
    "### Removing Correlated Variables"
   ]
  },
  {
   "cell_type": "code",
   "execution_count": 56,
   "id": "f7fc9081",
   "metadata": {
    "scrolled": true
   },
   "outputs": [
    {
     "data": {
      "text/html": [
       "<div>\n",
       "<style scoped>\n",
       "    .dataframe tbody tr th:only-of-type {\n",
       "        vertical-align: middle;\n",
       "    }\n",
       "\n",
       "    .dataframe tbody tr th {\n",
       "        vertical-align: top;\n",
       "    }\n",
       "\n",
       "    .dataframe thead th {\n",
       "        text-align: right;\n",
       "    }\n",
       "</style>\n",
       "<table border=\"1\" class=\"dataframe\">\n",
       "  <thead>\n",
       "    <tr style=\"text-align: right;\">\n",
       "      <th></th>\n",
       "      <th>Age</th>\n",
       "      <th>Attrition</th>\n",
       "      <th>BusinessTravel</th>\n",
       "      <th>DailyRate</th>\n",
       "      <th>Department</th>\n",
       "      <th>DistanceFromHome</th>\n",
       "      <th>Education</th>\n",
       "      <th>EducationField</th>\n",
       "      <th>EnvironmentSatisfaction</th>\n",
       "      <th>Gender</th>\n",
       "      <th>...</th>\n",
       "      <th>MonthlyRate</th>\n",
       "      <th>NumCompaniesWorked</th>\n",
       "      <th>OverTime</th>\n",
       "      <th>PerformanceRating</th>\n",
       "      <th>RelationshipSatisfaction</th>\n",
       "      <th>StockOptionLevel</th>\n",
       "      <th>TrainingTimesLastYear</th>\n",
       "      <th>WorkLifeBalance</th>\n",
       "      <th>YearsAtCompany</th>\n",
       "      <th>YearsSinceLastPromotion</th>\n",
       "    </tr>\n",
       "  </thead>\n",
       "  <tbody>\n",
       "    <tr>\n",
       "      <th>0</th>\n",
       "      <td>41</td>\n",
       "      <td>Yes</td>\n",
       "      <td>Travel_Rarely</td>\n",
       "      <td>1102</td>\n",
       "      <td>Sales</td>\n",
       "      <td>1</td>\n",
       "      <td>2</td>\n",
       "      <td>Life Sciences</td>\n",
       "      <td>2</td>\n",
       "      <td>Female</td>\n",
       "      <td>...</td>\n",
       "      <td>19479</td>\n",
       "      <td>8</td>\n",
       "      <td>Yes</td>\n",
       "      <td>3</td>\n",
       "      <td>1</td>\n",
       "      <td>0</td>\n",
       "      <td>0</td>\n",
       "      <td>1</td>\n",
       "      <td>6</td>\n",
       "      <td>0</td>\n",
       "    </tr>\n",
       "    <tr>\n",
       "      <th>1</th>\n",
       "      <td>49</td>\n",
       "      <td>No</td>\n",
       "      <td>Travel_Frequently</td>\n",
       "      <td>279</td>\n",
       "      <td>Research &amp; Development</td>\n",
       "      <td>8</td>\n",
       "      <td>1</td>\n",
       "      <td>Life Sciences</td>\n",
       "      <td>3</td>\n",
       "      <td>Male</td>\n",
       "      <td>...</td>\n",
       "      <td>24907</td>\n",
       "      <td>1</td>\n",
       "      <td>No</td>\n",
       "      <td>4</td>\n",
       "      <td>4</td>\n",
       "      <td>1</td>\n",
       "      <td>3</td>\n",
       "      <td>3</td>\n",
       "      <td>10</td>\n",
       "      <td>1</td>\n",
       "    </tr>\n",
       "    <tr>\n",
       "      <th>2</th>\n",
       "      <td>37</td>\n",
       "      <td>Yes</td>\n",
       "      <td>Travel_Rarely</td>\n",
       "      <td>1373</td>\n",
       "      <td>Research &amp; Development</td>\n",
       "      <td>2</td>\n",
       "      <td>2</td>\n",
       "      <td>Other</td>\n",
       "      <td>4</td>\n",
       "      <td>Male</td>\n",
       "      <td>...</td>\n",
       "      <td>2396</td>\n",
       "      <td>6</td>\n",
       "      <td>Yes</td>\n",
       "      <td>3</td>\n",
       "      <td>2</td>\n",
       "      <td>0</td>\n",
       "      <td>3</td>\n",
       "      <td>3</td>\n",
       "      <td>0</td>\n",
       "      <td>0</td>\n",
       "    </tr>\n",
       "    <tr>\n",
       "      <th>3</th>\n",
       "      <td>33</td>\n",
       "      <td>No</td>\n",
       "      <td>Travel_Frequently</td>\n",
       "      <td>1392</td>\n",
       "      <td>Research &amp; Development</td>\n",
       "      <td>3</td>\n",
       "      <td>4</td>\n",
       "      <td>Life Sciences</td>\n",
       "      <td>4</td>\n",
       "      <td>Female</td>\n",
       "      <td>...</td>\n",
       "      <td>23159</td>\n",
       "      <td>1</td>\n",
       "      <td>Yes</td>\n",
       "      <td>3</td>\n",
       "      <td>3</td>\n",
       "      <td>0</td>\n",
       "      <td>3</td>\n",
       "      <td>3</td>\n",
       "      <td>8</td>\n",
       "      <td>3</td>\n",
       "    </tr>\n",
       "    <tr>\n",
       "      <th>4</th>\n",
       "      <td>27</td>\n",
       "      <td>No</td>\n",
       "      <td>Travel_Rarely</td>\n",
       "      <td>591</td>\n",
       "      <td>Research &amp; Development</td>\n",
       "      <td>2</td>\n",
       "      <td>1</td>\n",
       "      <td>Medical</td>\n",
       "      <td>1</td>\n",
       "      <td>Male</td>\n",
       "      <td>...</td>\n",
       "      <td>16632</td>\n",
       "      <td>9</td>\n",
       "      <td>No</td>\n",
       "      <td>3</td>\n",
       "      <td>4</td>\n",
       "      <td>1</td>\n",
       "      <td>3</td>\n",
       "      <td>3</td>\n",
       "      <td>2</td>\n",
       "      <td>2</td>\n",
       "    </tr>\n",
       "    <tr>\n",
       "      <th>...</th>\n",
       "      <td>...</td>\n",
       "      <td>...</td>\n",
       "      <td>...</td>\n",
       "      <td>...</td>\n",
       "      <td>...</td>\n",
       "      <td>...</td>\n",
       "      <td>...</td>\n",
       "      <td>...</td>\n",
       "      <td>...</td>\n",
       "      <td>...</td>\n",
       "      <td>...</td>\n",
       "      <td>...</td>\n",
       "      <td>...</td>\n",
       "      <td>...</td>\n",
       "      <td>...</td>\n",
       "      <td>...</td>\n",
       "      <td>...</td>\n",
       "      <td>...</td>\n",
       "      <td>...</td>\n",
       "      <td>...</td>\n",
       "      <td>...</td>\n",
       "    </tr>\n",
       "    <tr>\n",
       "      <th>1465</th>\n",
       "      <td>36</td>\n",
       "      <td>No</td>\n",
       "      <td>Travel_Frequently</td>\n",
       "      <td>884</td>\n",
       "      <td>Research &amp; Development</td>\n",
       "      <td>23</td>\n",
       "      <td>2</td>\n",
       "      <td>Medical</td>\n",
       "      <td>3</td>\n",
       "      <td>Male</td>\n",
       "      <td>...</td>\n",
       "      <td>12290</td>\n",
       "      <td>4</td>\n",
       "      <td>No</td>\n",
       "      <td>3</td>\n",
       "      <td>3</td>\n",
       "      <td>1</td>\n",
       "      <td>3</td>\n",
       "      <td>3</td>\n",
       "      <td>5</td>\n",
       "      <td>0</td>\n",
       "    </tr>\n",
       "    <tr>\n",
       "      <th>1466</th>\n",
       "      <td>39</td>\n",
       "      <td>No</td>\n",
       "      <td>Travel_Rarely</td>\n",
       "      <td>613</td>\n",
       "      <td>Research &amp; Development</td>\n",
       "      <td>6</td>\n",
       "      <td>1</td>\n",
       "      <td>Medical</td>\n",
       "      <td>4</td>\n",
       "      <td>Male</td>\n",
       "      <td>...</td>\n",
       "      <td>21457</td>\n",
       "      <td>4</td>\n",
       "      <td>No</td>\n",
       "      <td>3</td>\n",
       "      <td>1</td>\n",
       "      <td>1</td>\n",
       "      <td>5</td>\n",
       "      <td>3</td>\n",
       "      <td>7</td>\n",
       "      <td>1</td>\n",
       "    </tr>\n",
       "    <tr>\n",
       "      <th>1467</th>\n",
       "      <td>27</td>\n",
       "      <td>No</td>\n",
       "      <td>Travel_Rarely</td>\n",
       "      <td>155</td>\n",
       "      <td>Research &amp; Development</td>\n",
       "      <td>4</td>\n",
       "      <td>3</td>\n",
       "      <td>Life Sciences</td>\n",
       "      <td>2</td>\n",
       "      <td>Male</td>\n",
       "      <td>...</td>\n",
       "      <td>5174</td>\n",
       "      <td>1</td>\n",
       "      <td>Yes</td>\n",
       "      <td>4</td>\n",
       "      <td>2</td>\n",
       "      <td>1</td>\n",
       "      <td>0</td>\n",
       "      <td>3</td>\n",
       "      <td>6</td>\n",
       "      <td>0</td>\n",
       "    </tr>\n",
       "    <tr>\n",
       "      <th>1468</th>\n",
       "      <td>49</td>\n",
       "      <td>No</td>\n",
       "      <td>Travel_Frequently</td>\n",
       "      <td>1023</td>\n",
       "      <td>Sales</td>\n",
       "      <td>2</td>\n",
       "      <td>3</td>\n",
       "      <td>Medical</td>\n",
       "      <td>4</td>\n",
       "      <td>Male</td>\n",
       "      <td>...</td>\n",
       "      <td>13243</td>\n",
       "      <td>2</td>\n",
       "      <td>No</td>\n",
       "      <td>3</td>\n",
       "      <td>4</td>\n",
       "      <td>0</td>\n",
       "      <td>3</td>\n",
       "      <td>2</td>\n",
       "      <td>9</td>\n",
       "      <td>0</td>\n",
       "    </tr>\n",
       "    <tr>\n",
       "      <th>1469</th>\n",
       "      <td>34</td>\n",
       "      <td>No</td>\n",
       "      <td>Travel_Rarely</td>\n",
       "      <td>628</td>\n",
       "      <td>Research &amp; Development</td>\n",
       "      <td>8</td>\n",
       "      <td>3</td>\n",
       "      <td>Medical</td>\n",
       "      <td>2</td>\n",
       "      <td>Male</td>\n",
       "      <td>...</td>\n",
       "      <td>10228</td>\n",
       "      <td>2</td>\n",
       "      <td>No</td>\n",
       "      <td>3</td>\n",
       "      <td>1</td>\n",
       "      <td>0</td>\n",
       "      <td>3</td>\n",
       "      <td>4</td>\n",
       "      <td>4</td>\n",
       "      <td>1</td>\n",
       "    </tr>\n",
       "  </tbody>\n",
       "</table>\n",
       "<p>1470 rows × 26 columns</p>\n",
       "</div>"
      ],
      "text/plain": [
       "      Age Attrition     BusinessTravel  DailyRate              Department  \\\n",
       "0      41       Yes      Travel_Rarely       1102                   Sales   \n",
       "1      49        No  Travel_Frequently        279  Research & Development   \n",
       "2      37       Yes      Travel_Rarely       1373  Research & Development   \n",
       "3      33        No  Travel_Frequently       1392  Research & Development   \n",
       "4      27        No      Travel_Rarely        591  Research & Development   \n",
       "...   ...       ...                ...        ...                     ...   \n",
       "1465   36        No  Travel_Frequently        884  Research & Development   \n",
       "1466   39        No      Travel_Rarely        613  Research & Development   \n",
       "1467   27        No      Travel_Rarely        155  Research & Development   \n",
       "1468   49        No  Travel_Frequently       1023                   Sales   \n",
       "1469   34        No      Travel_Rarely        628  Research & Development   \n",
       "\n",
       "      DistanceFromHome  Education EducationField  EnvironmentSatisfaction  \\\n",
       "0                    1          2  Life Sciences                        2   \n",
       "1                    8          1  Life Sciences                        3   \n",
       "2                    2          2          Other                        4   \n",
       "3                    3          4  Life Sciences                        4   \n",
       "4                    2          1        Medical                        1   \n",
       "...                ...        ...            ...                      ...   \n",
       "1465                23          2        Medical                        3   \n",
       "1466                 6          1        Medical                        4   \n",
       "1467                 4          3  Life Sciences                        2   \n",
       "1468                 2          3        Medical                        4   \n",
       "1469                 8          3        Medical                        2   \n",
       "\n",
       "      Gender  ...  MonthlyRate  NumCompaniesWorked OverTime  \\\n",
       "0     Female  ...        19479                   8      Yes   \n",
       "1       Male  ...        24907                   1       No   \n",
       "2       Male  ...         2396                   6      Yes   \n",
       "3     Female  ...        23159                   1      Yes   \n",
       "4       Male  ...        16632                   9       No   \n",
       "...      ...  ...          ...                 ...      ...   \n",
       "1465    Male  ...        12290                   4       No   \n",
       "1466    Male  ...        21457                   4       No   \n",
       "1467    Male  ...         5174                   1      Yes   \n",
       "1468    Male  ...        13243                   2       No   \n",
       "1469    Male  ...        10228                   2       No   \n",
       "\n",
       "      PerformanceRating RelationshipSatisfaction  StockOptionLevel  \\\n",
       "0                     3                        1                 0   \n",
       "1                     4                        4                 1   \n",
       "2                     3                        2                 0   \n",
       "3                     3                        3                 0   \n",
       "4                     3                        4                 1   \n",
       "...                 ...                      ...               ...   \n",
       "1465                  3                        3                 1   \n",
       "1466                  3                        1                 1   \n",
       "1467                  4                        2                 1   \n",
       "1468                  3                        4                 0   \n",
       "1469                  3                        1                 0   \n",
       "\n",
       "      TrainingTimesLastYear  WorkLifeBalance YearsAtCompany  \\\n",
       "0                         0                1              6   \n",
       "1                         3                3             10   \n",
       "2                         3                3              0   \n",
       "3                         3                3              8   \n",
       "4                         3                3              2   \n",
       "...                     ...              ...            ...   \n",
       "1465                      3                3              5   \n",
       "1466                      5                3              7   \n",
       "1467                      0                3              6   \n",
       "1468                      3                2              9   \n",
       "1469                      3                4              4   \n",
       "\n",
       "      YearsSinceLastPromotion  \n",
       "0                           0  \n",
       "1                           1  \n",
       "2                           0  \n",
       "3                           3  \n",
       "4                           2  \n",
       "...                       ...  \n",
       "1465                        0  \n",
       "1466                        1  \n",
       "1467                        0  \n",
       "1468                        0  \n",
       "1469                        1  \n",
       "\n",
       "[1470 rows x 26 columns]"
      ]
     },
     "execution_count": 56,
     "metadata": {},
     "output_type": "execute_result"
    }
   ],
   "source": [
    "df_final = df.drop(['JobLevel','TotalWorkingYears','YearsInCurrentRole', 'YearsWithCurrManager' , 'PercentSalaryHike'], axis=1)\n",
    "df_final"
   ]
  },
  {
   "cell_type": "markdown",
   "id": "cfb830ef",
   "metadata": {},
   "source": [
    "# Linear Regression"
   ]
  },
  {
   "cell_type": "code",
   "execution_count": 57,
   "id": "0f494c0c",
   "metadata": {},
   "outputs": [],
   "source": [
    "from sklearn.linear_model import LinearRegression\n",
    "from sklearn.model_selection import train_test_split"
   ]
  },
  {
   "cell_type": "markdown",
   "id": "5cf89921",
   "metadata": {},
   "source": [
    "### Label Encoding"
   ]
  },
  {
   "cell_type": "code",
   "execution_count": 58,
   "id": "591be731",
   "metadata": {},
   "outputs": [],
   "source": [
    "def preprocessor(df):\n",
    "    res_df = df.copy()\n",
    "    le = preprocessing.LabelEncoder()\n",
    "    \n",
    "    res_df['BusinessTravel'] = le.fit_transform(res_df['BusinessTravel'])\n",
    "    res_df['Department'] = le.fit_transform(res_df['Department'])\n",
    "    res_df['Education'] = le.fit_transform(res_df['Education'])\n",
    "    res_df['EducationField'] = le.fit_transform(res_df['EducationField'])\n",
    "    res_df['JobRole'] = le.fit_transform(res_df['JobRole'])\n",
    "    res_df['Gender'] = le.fit_transform(res_df['Gender'])\n",
    "    res_df['MaritalStatus'] = le.fit_transform(res_df['MaritalStatus'])\n",
    "    res_df['OverTime'] = le.fit_transform(res_df['OverTime'])\n",
    "    res_df['Attrition'] = le.fit_transform(res_df['Attrition'])\n",
    "#     res_df['poutcome'] = le.fit_transform(res_df['poutcome'])\n",
    "#     res_df['deposit'] = le.fit_transform(res_df['deposit'])\n",
    "    return res_df"
   ]
  },
  {
   "cell_type": "code",
   "execution_count": 59,
   "id": "0071d52e",
   "metadata": {},
   "outputs": [
    {
     "data": {
      "text/plain": [
       "0       1\n",
       "1       0\n",
       "2       1\n",
       "3       0\n",
       "4       0\n",
       "       ..\n",
       "1465    0\n",
       "1466    0\n",
       "1467    0\n",
       "1468    0\n",
       "1469    0\n",
       "Name: Attrition, Length: 1470, dtype: int32"
      ]
     },
     "execution_count": 59,
     "metadata": {},
     "output_type": "execute_result"
    }
   ],
   "source": [
    "encoded_df = preprocessor(df_final)\n",
    "X = encoded_df.drop(['Attrition'],axis =1)\n",
    "y = encoded_df['Attrition']\n",
    "y"
   ]
  },
  {
   "cell_type": "markdown",
   "id": "aab97a86",
   "metadata": {},
   "source": [
    "### Standardizing the data"
   ]
  },
  {
   "cell_type": "code",
   "execution_count": 60,
   "id": "85262e00",
   "metadata": {},
   "outputs": [
    {
     "data": {
      "text/html": [
       "<div>\n",
       "<style scoped>\n",
       "    .dataframe tbody tr th:only-of-type {\n",
       "        vertical-align: middle;\n",
       "    }\n",
       "\n",
       "    .dataframe tbody tr th {\n",
       "        vertical-align: top;\n",
       "    }\n",
       "\n",
       "    .dataframe thead th {\n",
       "        text-align: right;\n",
       "    }\n",
       "</style>\n",
       "<table border=\"1\" class=\"dataframe\">\n",
       "  <thead>\n",
       "    <tr style=\"text-align: right;\">\n",
       "      <th></th>\n",
       "      <th>Age</th>\n",
       "      <th>BusinessTravel</th>\n",
       "      <th>DailyRate</th>\n",
       "      <th>Department</th>\n",
       "      <th>DistanceFromHome</th>\n",
       "      <th>Education</th>\n",
       "      <th>EducationField</th>\n",
       "      <th>EnvironmentSatisfaction</th>\n",
       "      <th>Gender</th>\n",
       "      <th>HourlyRate</th>\n",
       "      <th>...</th>\n",
       "      <th>MonthlyRate</th>\n",
       "      <th>NumCompaniesWorked</th>\n",
       "      <th>OverTime</th>\n",
       "      <th>PerformanceRating</th>\n",
       "      <th>RelationshipSatisfaction</th>\n",
       "      <th>StockOptionLevel</th>\n",
       "      <th>TrainingTimesLastYear</th>\n",
       "      <th>WorkLifeBalance</th>\n",
       "      <th>YearsAtCompany</th>\n",
       "      <th>YearsSinceLastPromotion</th>\n",
       "    </tr>\n",
       "  </thead>\n",
       "  <tbody>\n",
       "    <tr>\n",
       "      <th>0</th>\n",
       "      <td>41</td>\n",
       "      <td>2</td>\n",
       "      <td>1102</td>\n",
       "      <td>2</td>\n",
       "      <td>1</td>\n",
       "      <td>1</td>\n",
       "      <td>1</td>\n",
       "      <td>2</td>\n",
       "      <td>0</td>\n",
       "      <td>94</td>\n",
       "      <td>...</td>\n",
       "      <td>19479</td>\n",
       "      <td>8</td>\n",
       "      <td>1</td>\n",
       "      <td>3</td>\n",
       "      <td>1</td>\n",
       "      <td>0</td>\n",
       "      <td>0</td>\n",
       "      <td>1</td>\n",
       "      <td>6</td>\n",
       "      <td>0</td>\n",
       "    </tr>\n",
       "    <tr>\n",
       "      <th>1</th>\n",
       "      <td>49</td>\n",
       "      <td>1</td>\n",
       "      <td>279</td>\n",
       "      <td>1</td>\n",
       "      <td>8</td>\n",
       "      <td>0</td>\n",
       "      <td>1</td>\n",
       "      <td>3</td>\n",
       "      <td>1</td>\n",
       "      <td>61</td>\n",
       "      <td>...</td>\n",
       "      <td>24907</td>\n",
       "      <td>1</td>\n",
       "      <td>0</td>\n",
       "      <td>4</td>\n",
       "      <td>4</td>\n",
       "      <td>1</td>\n",
       "      <td>3</td>\n",
       "      <td>3</td>\n",
       "      <td>10</td>\n",
       "      <td>1</td>\n",
       "    </tr>\n",
       "    <tr>\n",
       "      <th>2</th>\n",
       "      <td>37</td>\n",
       "      <td>2</td>\n",
       "      <td>1373</td>\n",
       "      <td>1</td>\n",
       "      <td>2</td>\n",
       "      <td>1</td>\n",
       "      <td>4</td>\n",
       "      <td>4</td>\n",
       "      <td>1</td>\n",
       "      <td>92</td>\n",
       "      <td>...</td>\n",
       "      <td>2396</td>\n",
       "      <td>6</td>\n",
       "      <td>1</td>\n",
       "      <td>3</td>\n",
       "      <td>2</td>\n",
       "      <td>0</td>\n",
       "      <td>3</td>\n",
       "      <td>3</td>\n",
       "      <td>0</td>\n",
       "      <td>0</td>\n",
       "    </tr>\n",
       "    <tr>\n",
       "      <th>3</th>\n",
       "      <td>33</td>\n",
       "      <td>1</td>\n",
       "      <td>1392</td>\n",
       "      <td>1</td>\n",
       "      <td>3</td>\n",
       "      <td>3</td>\n",
       "      <td>1</td>\n",
       "      <td>4</td>\n",
       "      <td>0</td>\n",
       "      <td>56</td>\n",
       "      <td>...</td>\n",
       "      <td>23159</td>\n",
       "      <td>1</td>\n",
       "      <td>1</td>\n",
       "      <td>3</td>\n",
       "      <td>3</td>\n",
       "      <td>0</td>\n",
       "      <td>3</td>\n",
       "      <td>3</td>\n",
       "      <td>8</td>\n",
       "      <td>3</td>\n",
       "    </tr>\n",
       "    <tr>\n",
       "      <th>4</th>\n",
       "      <td>27</td>\n",
       "      <td>2</td>\n",
       "      <td>591</td>\n",
       "      <td>1</td>\n",
       "      <td>2</td>\n",
       "      <td>0</td>\n",
       "      <td>3</td>\n",
       "      <td>1</td>\n",
       "      <td>1</td>\n",
       "      <td>40</td>\n",
       "      <td>...</td>\n",
       "      <td>16632</td>\n",
       "      <td>9</td>\n",
       "      <td>0</td>\n",
       "      <td>3</td>\n",
       "      <td>4</td>\n",
       "      <td>1</td>\n",
       "      <td>3</td>\n",
       "      <td>3</td>\n",
       "      <td>2</td>\n",
       "      <td>2</td>\n",
       "    </tr>\n",
       "    <tr>\n",
       "      <th>...</th>\n",
       "      <td>...</td>\n",
       "      <td>...</td>\n",
       "      <td>...</td>\n",
       "      <td>...</td>\n",
       "      <td>...</td>\n",
       "      <td>...</td>\n",
       "      <td>...</td>\n",
       "      <td>...</td>\n",
       "      <td>...</td>\n",
       "      <td>...</td>\n",
       "      <td>...</td>\n",
       "      <td>...</td>\n",
       "      <td>...</td>\n",
       "      <td>...</td>\n",
       "      <td>...</td>\n",
       "      <td>...</td>\n",
       "      <td>...</td>\n",
       "      <td>...</td>\n",
       "      <td>...</td>\n",
       "      <td>...</td>\n",
       "      <td>...</td>\n",
       "    </tr>\n",
       "    <tr>\n",
       "      <th>1465</th>\n",
       "      <td>36</td>\n",
       "      <td>1</td>\n",
       "      <td>884</td>\n",
       "      <td>1</td>\n",
       "      <td>23</td>\n",
       "      <td>1</td>\n",
       "      <td>3</td>\n",
       "      <td>3</td>\n",
       "      <td>1</td>\n",
       "      <td>41</td>\n",
       "      <td>...</td>\n",
       "      <td>12290</td>\n",
       "      <td>4</td>\n",
       "      <td>0</td>\n",
       "      <td>3</td>\n",
       "      <td>3</td>\n",
       "      <td>1</td>\n",
       "      <td>3</td>\n",
       "      <td>3</td>\n",
       "      <td>5</td>\n",
       "      <td>0</td>\n",
       "    </tr>\n",
       "    <tr>\n",
       "      <th>1466</th>\n",
       "      <td>39</td>\n",
       "      <td>2</td>\n",
       "      <td>613</td>\n",
       "      <td>1</td>\n",
       "      <td>6</td>\n",
       "      <td>0</td>\n",
       "      <td>3</td>\n",
       "      <td>4</td>\n",
       "      <td>1</td>\n",
       "      <td>42</td>\n",
       "      <td>...</td>\n",
       "      <td>21457</td>\n",
       "      <td>4</td>\n",
       "      <td>0</td>\n",
       "      <td>3</td>\n",
       "      <td>1</td>\n",
       "      <td>1</td>\n",
       "      <td>5</td>\n",
       "      <td>3</td>\n",
       "      <td>7</td>\n",
       "      <td>1</td>\n",
       "    </tr>\n",
       "    <tr>\n",
       "      <th>1467</th>\n",
       "      <td>27</td>\n",
       "      <td>2</td>\n",
       "      <td>155</td>\n",
       "      <td>1</td>\n",
       "      <td>4</td>\n",
       "      <td>2</td>\n",
       "      <td>1</td>\n",
       "      <td>2</td>\n",
       "      <td>1</td>\n",
       "      <td>87</td>\n",
       "      <td>...</td>\n",
       "      <td>5174</td>\n",
       "      <td>1</td>\n",
       "      <td>1</td>\n",
       "      <td>4</td>\n",
       "      <td>2</td>\n",
       "      <td>1</td>\n",
       "      <td>0</td>\n",
       "      <td>3</td>\n",
       "      <td>6</td>\n",
       "      <td>0</td>\n",
       "    </tr>\n",
       "    <tr>\n",
       "      <th>1468</th>\n",
       "      <td>49</td>\n",
       "      <td>1</td>\n",
       "      <td>1023</td>\n",
       "      <td>2</td>\n",
       "      <td>2</td>\n",
       "      <td>2</td>\n",
       "      <td>3</td>\n",
       "      <td>4</td>\n",
       "      <td>1</td>\n",
       "      <td>63</td>\n",
       "      <td>...</td>\n",
       "      <td>13243</td>\n",
       "      <td>2</td>\n",
       "      <td>0</td>\n",
       "      <td>3</td>\n",
       "      <td>4</td>\n",
       "      <td>0</td>\n",
       "      <td>3</td>\n",
       "      <td>2</td>\n",
       "      <td>9</td>\n",
       "      <td>0</td>\n",
       "    </tr>\n",
       "    <tr>\n",
       "      <th>1469</th>\n",
       "      <td>34</td>\n",
       "      <td>2</td>\n",
       "      <td>628</td>\n",
       "      <td>1</td>\n",
       "      <td>8</td>\n",
       "      <td>2</td>\n",
       "      <td>3</td>\n",
       "      <td>2</td>\n",
       "      <td>1</td>\n",
       "      <td>82</td>\n",
       "      <td>...</td>\n",
       "      <td>10228</td>\n",
       "      <td>2</td>\n",
       "      <td>0</td>\n",
       "      <td>3</td>\n",
       "      <td>1</td>\n",
       "      <td>0</td>\n",
       "      <td>3</td>\n",
       "      <td>4</td>\n",
       "      <td>4</td>\n",
       "      <td>1</td>\n",
       "    </tr>\n",
       "  </tbody>\n",
       "</table>\n",
       "<p>1470 rows × 25 columns</p>\n",
       "</div>"
      ],
      "text/plain": [
       "      Age  BusinessTravel  DailyRate  Department  DistanceFromHome  Education  \\\n",
       "0      41               2       1102           2                 1          1   \n",
       "1      49               1        279           1                 8          0   \n",
       "2      37               2       1373           1                 2          1   \n",
       "3      33               1       1392           1                 3          3   \n",
       "4      27               2        591           1                 2          0   \n",
       "...   ...             ...        ...         ...               ...        ...   \n",
       "1465   36               1        884           1                23          1   \n",
       "1466   39               2        613           1                 6          0   \n",
       "1467   27               2        155           1                 4          2   \n",
       "1468   49               1       1023           2                 2          2   \n",
       "1469   34               2        628           1                 8          2   \n",
       "\n",
       "      EducationField  EnvironmentSatisfaction  Gender  HourlyRate  ...  \\\n",
       "0                  1                        2       0          94  ...   \n",
       "1                  1                        3       1          61  ...   \n",
       "2                  4                        4       1          92  ...   \n",
       "3                  1                        4       0          56  ...   \n",
       "4                  3                        1       1          40  ...   \n",
       "...              ...                      ...     ...         ...  ...   \n",
       "1465               3                        3       1          41  ...   \n",
       "1466               3                        4       1          42  ...   \n",
       "1467               1                        2       1          87  ...   \n",
       "1468               3                        4       1          63  ...   \n",
       "1469               3                        2       1          82  ...   \n",
       "\n",
       "      MonthlyRate  NumCompaniesWorked  OverTime  PerformanceRating  \\\n",
       "0           19479                   8         1                  3   \n",
       "1           24907                   1         0                  4   \n",
       "2            2396                   6         1                  3   \n",
       "3           23159                   1         1                  3   \n",
       "4           16632                   9         0                  3   \n",
       "...           ...                 ...       ...                ...   \n",
       "1465        12290                   4         0                  3   \n",
       "1466        21457                   4         0                  3   \n",
       "1467         5174                   1         1                  4   \n",
       "1468        13243                   2         0                  3   \n",
       "1469        10228                   2         0                  3   \n",
       "\n",
       "      RelationshipSatisfaction  StockOptionLevel  TrainingTimesLastYear  \\\n",
       "0                            1                 0                      0   \n",
       "1                            4                 1                      3   \n",
       "2                            2                 0                      3   \n",
       "3                            3                 0                      3   \n",
       "4                            4                 1                      3   \n",
       "...                        ...               ...                    ...   \n",
       "1465                         3                 1                      3   \n",
       "1466                         1                 1                      5   \n",
       "1467                         2                 1                      0   \n",
       "1468                         4                 0                      3   \n",
       "1469                         1                 0                      3   \n",
       "\n",
       "      WorkLifeBalance  YearsAtCompany  YearsSinceLastPromotion  \n",
       "0                   1               6                        0  \n",
       "1                   3              10                        1  \n",
       "2                   3               0                        0  \n",
       "3                   3               8                        3  \n",
       "4                   3               2                        2  \n",
       "...               ...             ...                      ...  \n",
       "1465                3               5                        0  \n",
       "1466                3               7                        1  \n",
       "1467                3               6                        0  \n",
       "1468                2               9                        0  \n",
       "1469                4               4                        1  \n",
       "\n",
       "[1470 rows x 25 columns]"
      ]
     },
     "execution_count": 60,
     "metadata": {},
     "output_type": "execute_result"
    }
   ],
   "source": [
    "X.iloc[:, :]"
   ]
  },
  {
   "cell_type": "code",
   "execution_count": 61,
   "id": "e487135b",
   "metadata": {},
   "outputs": [
    {
     "name": "stdout",
     "output_type": "stream",
     "text": [
      "            0         1         2         3         4         5         6   \\\n",
      "0     0.446350  0.590048  0.742527  1.401512 -1.010909 -0.891688 -0.937414   \n",
      "1     1.322365 -0.913194 -1.297775 -0.493817 -0.147150 -1.868426 -0.937414   \n",
      "2     0.008343  0.590048  1.414363 -0.493817 -0.887515 -0.891688  1.316673   \n",
      "3    -0.429664 -0.913194  1.461466 -0.493817 -0.764121  1.061787 -0.937414   \n",
      "4    -1.086676  0.590048 -0.524295 -0.493817 -0.887515 -1.868426  0.565311   \n",
      "...        ...       ...       ...       ...       ...       ...       ...   \n",
      "1465 -0.101159 -0.913194  0.202082 -0.493817  1.703764 -0.891688  0.565311   \n",
      "1466  0.227347  0.590048 -0.469754 -0.493817 -0.393938 -1.868426  0.565311   \n",
      "1467 -1.086676  0.590048 -1.605183 -0.493817 -0.640727  0.085049 -0.937414   \n",
      "1468  1.322365 -0.913194  0.546677  1.401512 -0.887515  0.085049  0.565311   \n",
      "1469 -0.320163  0.590048 -0.432568 -0.493817 -0.147150  0.085049  0.565311   \n",
      "\n",
      "            7         8         9   ...        15        16        17  \\\n",
      "0    -0.660531 -1.224745  1.383138  ...  0.726020  2.125136  1.591746   \n",
      "1     0.254625  0.816497 -0.240677  ...  1.488876 -0.678049 -0.628241   \n",
      "2     1.169781  0.816497  1.284725  ... -1.674841  1.324226  1.591746   \n",
      "3     1.169781 -1.224745 -0.486709  ...  1.243211 -0.678049  1.591746   \n",
      "4    -1.575686  0.816497 -1.274014  ...  0.325900  2.525591 -0.628241   \n",
      "...        ...       ...       ...  ...       ...       ...       ...   \n",
      "1465  0.254625  0.816497 -1.224807  ... -0.284329  0.523316 -0.628241   \n",
      "1466  1.169781  0.816497 -1.175601  ...  1.004010  0.523316 -0.628241   \n",
      "1467 -0.660531  0.816497  1.038693  ... -1.284418 -0.678049  1.591746   \n",
      "1468  1.169781  0.816497 -0.142264  ... -0.150393 -0.277594 -0.628241   \n",
      "1469 -0.660531  0.816497  0.792660  ... -0.574124 -0.277594 -0.628241   \n",
      "\n",
      "            18        19        20        21        22        23        24  \n",
      "0    -0.426230 -1.584178 -0.932014 -2.171982 -2.493820 -0.164613 -0.679146  \n",
      "1     2.346151  1.191438  0.241988  0.155707  0.338096  0.488508 -0.368715  \n",
      "2    -0.426230 -0.658973 -0.932014  0.155707  0.338096 -1.144294 -0.679146  \n",
      "3    -0.426230  0.266233 -0.932014  0.155707  0.338096  0.161947  0.252146  \n",
      "4    -0.426230  1.191438  0.241988  0.155707  0.338096 -0.817734 -0.058285  \n",
      "...        ...       ...       ...       ...       ...       ...       ...  \n",
      "1465 -0.426230  0.266233  0.241988  0.155707  0.338096 -0.327893 -0.679146  \n",
      "1466 -0.426230 -1.584178  0.241988  1.707500  0.338096 -0.001333 -0.368715  \n",
      "1467  2.346151 -0.658973  0.241988 -2.171982  0.338096 -0.164613 -0.679146  \n",
      "1468 -0.426230  1.191438 -0.932014  0.155707 -1.077862  0.325228 -0.679146  \n",
      "1469 -0.426230 -1.584178 -0.932014  0.155707  1.754054 -0.491174 -0.368715  \n",
      "\n",
      "[1470 rows x 25 columns]\n",
      "<class 'pandas.core.frame.DataFrame'>\n"
     ]
    }
   ],
   "source": [
    "data = X.iloc[:, :].values\n",
    "X_std = preprocessing.scale(data)\n",
    "X_std = pd.DataFrame(X_std)\n",
    "print (X_std)\n",
    "print (type(X_std))"
   ]
  },
  {
   "cell_type": "code",
   "execution_count": 62,
   "id": "06fac035",
   "metadata": {},
   "outputs": [
    {
     "data": {
      "text/html": [
       "<div>\n",
       "<style scoped>\n",
       "    .dataframe tbody tr th:only-of-type {\n",
       "        vertical-align: middle;\n",
       "    }\n",
       "\n",
       "    .dataframe tbody tr th {\n",
       "        vertical-align: top;\n",
       "    }\n",
       "\n",
       "    .dataframe thead th {\n",
       "        text-align: right;\n",
       "    }\n",
       "</style>\n",
       "<table border=\"1\" class=\"dataframe\">\n",
       "  <thead>\n",
       "    <tr style=\"text-align: right;\">\n",
       "      <th></th>\n",
       "      <th>Age</th>\n",
       "      <th>Attrition</th>\n",
       "      <th>BusinessTravel</th>\n",
       "      <th>DailyRate</th>\n",
       "      <th>Department</th>\n",
       "      <th>DistanceFromHome</th>\n",
       "      <th>Education</th>\n",
       "      <th>EducationField</th>\n",
       "      <th>EnvironmentSatisfaction</th>\n",
       "      <th>Gender</th>\n",
       "      <th>...</th>\n",
       "      <th>MaritalStatus</th>\n",
       "      <th>MonthlyIncome</th>\n",
       "      <th>MonthlyRate</th>\n",
       "      <th>NumCompaniesWorked</th>\n",
       "      <th>OverTime</th>\n",
       "      <th>PercentSalaryHike</th>\n",
       "      <th>PerformanceRating</th>\n",
       "      <th>RelationshipSatisfaction</th>\n",
       "      <th>StockOptionLevel</th>\n",
       "      <th>TotalWorkingYears</th>\n",
       "    </tr>\n",
       "  </thead>\n",
       "  <tbody>\n",
       "    <tr>\n",
       "      <th>0</th>\n",
       "      <td>0.446350</td>\n",
       "      <td>0.590048</td>\n",
       "      <td>0.742527</td>\n",
       "      <td>1.401512</td>\n",
       "      <td>-1.010909</td>\n",
       "      <td>-0.891688</td>\n",
       "      <td>-0.937414</td>\n",
       "      <td>-0.660531</td>\n",
       "      <td>-1.224745</td>\n",
       "      <td>1.383138</td>\n",
       "      <td>...</td>\n",
       "      <td>0.726020</td>\n",
       "      <td>2.125136</td>\n",
       "      <td>1.591746</td>\n",
       "      <td>-0.426230</td>\n",
       "      <td>-1.584178</td>\n",
       "      <td>-0.932014</td>\n",
       "      <td>-2.171982</td>\n",
       "      <td>-2.493820</td>\n",
       "      <td>-0.164613</td>\n",
       "      <td>-0.679146</td>\n",
       "    </tr>\n",
       "    <tr>\n",
       "      <th>1</th>\n",
       "      <td>1.322365</td>\n",
       "      <td>-0.913194</td>\n",
       "      <td>-1.297775</td>\n",
       "      <td>-0.493817</td>\n",
       "      <td>-0.147150</td>\n",
       "      <td>-1.868426</td>\n",
       "      <td>-0.937414</td>\n",
       "      <td>0.254625</td>\n",
       "      <td>0.816497</td>\n",
       "      <td>-0.240677</td>\n",
       "      <td>...</td>\n",
       "      <td>1.488876</td>\n",
       "      <td>-0.678049</td>\n",
       "      <td>-0.628241</td>\n",
       "      <td>2.346151</td>\n",
       "      <td>1.191438</td>\n",
       "      <td>0.241988</td>\n",
       "      <td>0.155707</td>\n",
       "      <td>0.338096</td>\n",
       "      <td>0.488508</td>\n",
       "      <td>-0.368715</td>\n",
       "    </tr>\n",
       "    <tr>\n",
       "      <th>2</th>\n",
       "      <td>0.008343</td>\n",
       "      <td>0.590048</td>\n",
       "      <td>1.414363</td>\n",
       "      <td>-0.493817</td>\n",
       "      <td>-0.887515</td>\n",
       "      <td>-0.891688</td>\n",
       "      <td>1.316673</td>\n",
       "      <td>1.169781</td>\n",
       "      <td>0.816497</td>\n",
       "      <td>1.284725</td>\n",
       "      <td>...</td>\n",
       "      <td>-1.674841</td>\n",
       "      <td>1.324226</td>\n",
       "      <td>1.591746</td>\n",
       "      <td>-0.426230</td>\n",
       "      <td>-0.658973</td>\n",
       "      <td>-0.932014</td>\n",
       "      <td>0.155707</td>\n",
       "      <td>0.338096</td>\n",
       "      <td>-1.144294</td>\n",
       "      <td>-0.679146</td>\n",
       "    </tr>\n",
       "    <tr>\n",
       "      <th>3</th>\n",
       "      <td>-0.429664</td>\n",
       "      <td>-0.913194</td>\n",
       "      <td>1.461466</td>\n",
       "      <td>-0.493817</td>\n",
       "      <td>-0.764121</td>\n",
       "      <td>1.061787</td>\n",
       "      <td>-0.937414</td>\n",
       "      <td>1.169781</td>\n",
       "      <td>-1.224745</td>\n",
       "      <td>-0.486709</td>\n",
       "      <td>...</td>\n",
       "      <td>1.243211</td>\n",
       "      <td>-0.678049</td>\n",
       "      <td>1.591746</td>\n",
       "      <td>-0.426230</td>\n",
       "      <td>0.266233</td>\n",
       "      <td>-0.932014</td>\n",
       "      <td>0.155707</td>\n",
       "      <td>0.338096</td>\n",
       "      <td>0.161947</td>\n",
       "      <td>0.252146</td>\n",
       "    </tr>\n",
       "    <tr>\n",
       "      <th>4</th>\n",
       "      <td>-1.086676</td>\n",
       "      <td>0.590048</td>\n",
       "      <td>-0.524295</td>\n",
       "      <td>-0.493817</td>\n",
       "      <td>-0.887515</td>\n",
       "      <td>-1.868426</td>\n",
       "      <td>0.565311</td>\n",
       "      <td>-1.575686</td>\n",
       "      <td>0.816497</td>\n",
       "      <td>-1.274014</td>\n",
       "      <td>...</td>\n",
       "      <td>0.325900</td>\n",
       "      <td>2.525591</td>\n",
       "      <td>-0.628241</td>\n",
       "      <td>-0.426230</td>\n",
       "      <td>1.191438</td>\n",
       "      <td>0.241988</td>\n",
       "      <td>0.155707</td>\n",
       "      <td>0.338096</td>\n",
       "      <td>-0.817734</td>\n",
       "      <td>-0.058285</td>\n",
       "    </tr>\n",
       "    <tr>\n",
       "      <th>...</th>\n",
       "      <td>...</td>\n",
       "      <td>...</td>\n",
       "      <td>...</td>\n",
       "      <td>...</td>\n",
       "      <td>...</td>\n",
       "      <td>...</td>\n",
       "      <td>...</td>\n",
       "      <td>...</td>\n",
       "      <td>...</td>\n",
       "      <td>...</td>\n",
       "      <td>...</td>\n",
       "      <td>...</td>\n",
       "      <td>...</td>\n",
       "      <td>...</td>\n",
       "      <td>...</td>\n",
       "      <td>...</td>\n",
       "      <td>...</td>\n",
       "      <td>...</td>\n",
       "      <td>...</td>\n",
       "      <td>...</td>\n",
       "      <td>...</td>\n",
       "    </tr>\n",
       "    <tr>\n",
       "      <th>1465</th>\n",
       "      <td>-0.101159</td>\n",
       "      <td>-0.913194</td>\n",
       "      <td>0.202082</td>\n",
       "      <td>-0.493817</td>\n",
       "      <td>1.703764</td>\n",
       "      <td>-0.891688</td>\n",
       "      <td>0.565311</td>\n",
       "      <td>0.254625</td>\n",
       "      <td>0.816497</td>\n",
       "      <td>-1.224807</td>\n",
       "      <td>...</td>\n",
       "      <td>-0.284329</td>\n",
       "      <td>0.523316</td>\n",
       "      <td>-0.628241</td>\n",
       "      <td>-0.426230</td>\n",
       "      <td>0.266233</td>\n",
       "      <td>0.241988</td>\n",
       "      <td>0.155707</td>\n",
       "      <td>0.338096</td>\n",
       "      <td>-0.327893</td>\n",
       "      <td>-0.679146</td>\n",
       "    </tr>\n",
       "    <tr>\n",
       "      <th>1466</th>\n",
       "      <td>0.227347</td>\n",
       "      <td>0.590048</td>\n",
       "      <td>-0.469754</td>\n",
       "      <td>-0.493817</td>\n",
       "      <td>-0.393938</td>\n",
       "      <td>-1.868426</td>\n",
       "      <td>0.565311</td>\n",
       "      <td>1.169781</td>\n",
       "      <td>0.816497</td>\n",
       "      <td>-1.175601</td>\n",
       "      <td>...</td>\n",
       "      <td>1.004010</td>\n",
       "      <td>0.523316</td>\n",
       "      <td>-0.628241</td>\n",
       "      <td>-0.426230</td>\n",
       "      <td>-1.584178</td>\n",
       "      <td>0.241988</td>\n",
       "      <td>1.707500</td>\n",
       "      <td>0.338096</td>\n",
       "      <td>-0.001333</td>\n",
       "      <td>-0.368715</td>\n",
       "    </tr>\n",
       "    <tr>\n",
       "      <th>1467</th>\n",
       "      <td>-1.086676</td>\n",
       "      <td>0.590048</td>\n",
       "      <td>-1.605183</td>\n",
       "      <td>-0.493817</td>\n",
       "      <td>-0.640727</td>\n",
       "      <td>0.085049</td>\n",
       "      <td>-0.937414</td>\n",
       "      <td>-0.660531</td>\n",
       "      <td>0.816497</td>\n",
       "      <td>1.038693</td>\n",
       "      <td>...</td>\n",
       "      <td>-1.284418</td>\n",
       "      <td>-0.678049</td>\n",
       "      <td>1.591746</td>\n",
       "      <td>2.346151</td>\n",
       "      <td>-0.658973</td>\n",
       "      <td>0.241988</td>\n",
       "      <td>-2.171982</td>\n",
       "      <td>0.338096</td>\n",
       "      <td>-0.164613</td>\n",
       "      <td>-0.679146</td>\n",
       "    </tr>\n",
       "    <tr>\n",
       "      <th>1468</th>\n",
       "      <td>1.322365</td>\n",
       "      <td>-0.913194</td>\n",
       "      <td>0.546677</td>\n",
       "      <td>1.401512</td>\n",
       "      <td>-0.887515</td>\n",
       "      <td>0.085049</td>\n",
       "      <td>0.565311</td>\n",
       "      <td>1.169781</td>\n",
       "      <td>0.816497</td>\n",
       "      <td>-0.142264</td>\n",
       "      <td>...</td>\n",
       "      <td>-0.150393</td>\n",
       "      <td>-0.277594</td>\n",
       "      <td>-0.628241</td>\n",
       "      <td>-0.426230</td>\n",
       "      <td>1.191438</td>\n",
       "      <td>-0.932014</td>\n",
       "      <td>0.155707</td>\n",
       "      <td>-1.077862</td>\n",
       "      <td>0.325228</td>\n",
       "      <td>-0.679146</td>\n",
       "    </tr>\n",
       "    <tr>\n",
       "      <th>1469</th>\n",
       "      <td>-0.320163</td>\n",
       "      <td>0.590048</td>\n",
       "      <td>-0.432568</td>\n",
       "      <td>-0.493817</td>\n",
       "      <td>-0.147150</td>\n",
       "      <td>0.085049</td>\n",
       "      <td>0.565311</td>\n",
       "      <td>-0.660531</td>\n",
       "      <td>0.816497</td>\n",
       "      <td>0.792660</td>\n",
       "      <td>...</td>\n",
       "      <td>-0.574124</td>\n",
       "      <td>-0.277594</td>\n",
       "      <td>-0.628241</td>\n",
       "      <td>-0.426230</td>\n",
       "      <td>-1.584178</td>\n",
       "      <td>-0.932014</td>\n",
       "      <td>0.155707</td>\n",
       "      <td>1.754054</td>\n",
       "      <td>-0.491174</td>\n",
       "      <td>-0.368715</td>\n",
       "    </tr>\n",
       "  </tbody>\n",
       "</table>\n",
       "<p>1470 rows × 25 columns</p>\n",
       "</div>"
      ],
      "text/plain": [
       "           Age  Attrition  BusinessTravel  DailyRate  Department  \\\n",
       "0     0.446350   0.590048        0.742527   1.401512   -1.010909   \n",
       "1     1.322365  -0.913194       -1.297775  -0.493817   -0.147150   \n",
       "2     0.008343   0.590048        1.414363  -0.493817   -0.887515   \n",
       "3    -0.429664  -0.913194        1.461466  -0.493817   -0.764121   \n",
       "4    -1.086676   0.590048       -0.524295  -0.493817   -0.887515   \n",
       "...        ...        ...             ...        ...         ...   \n",
       "1465 -0.101159  -0.913194        0.202082  -0.493817    1.703764   \n",
       "1466  0.227347   0.590048       -0.469754  -0.493817   -0.393938   \n",
       "1467 -1.086676   0.590048       -1.605183  -0.493817   -0.640727   \n",
       "1468  1.322365  -0.913194        0.546677   1.401512   -0.887515   \n",
       "1469 -0.320163   0.590048       -0.432568  -0.493817   -0.147150   \n",
       "\n",
       "      DistanceFromHome  Education  EducationField  EnvironmentSatisfaction  \\\n",
       "0            -0.891688  -0.937414       -0.660531                -1.224745   \n",
       "1            -1.868426  -0.937414        0.254625                 0.816497   \n",
       "2            -0.891688   1.316673        1.169781                 0.816497   \n",
       "3             1.061787  -0.937414        1.169781                -1.224745   \n",
       "4            -1.868426   0.565311       -1.575686                 0.816497   \n",
       "...                ...        ...             ...                      ...   \n",
       "1465         -0.891688   0.565311        0.254625                 0.816497   \n",
       "1466         -1.868426   0.565311        1.169781                 0.816497   \n",
       "1467          0.085049  -0.937414       -0.660531                 0.816497   \n",
       "1468          0.085049   0.565311        1.169781                 0.816497   \n",
       "1469          0.085049   0.565311       -0.660531                 0.816497   \n",
       "\n",
       "        Gender  ...  MaritalStatus  MonthlyIncome  MonthlyRate  \\\n",
       "0     1.383138  ...       0.726020       2.125136     1.591746   \n",
       "1    -0.240677  ...       1.488876      -0.678049    -0.628241   \n",
       "2     1.284725  ...      -1.674841       1.324226     1.591746   \n",
       "3    -0.486709  ...       1.243211      -0.678049     1.591746   \n",
       "4    -1.274014  ...       0.325900       2.525591    -0.628241   \n",
       "...        ...  ...            ...            ...          ...   \n",
       "1465 -1.224807  ...      -0.284329       0.523316    -0.628241   \n",
       "1466 -1.175601  ...       1.004010       0.523316    -0.628241   \n",
       "1467  1.038693  ...      -1.284418      -0.678049     1.591746   \n",
       "1468 -0.142264  ...      -0.150393      -0.277594    -0.628241   \n",
       "1469  0.792660  ...      -0.574124      -0.277594    -0.628241   \n",
       "\n",
       "      NumCompaniesWorked  OverTime  PercentSalaryHike  PerformanceRating  \\\n",
       "0              -0.426230 -1.584178          -0.932014          -2.171982   \n",
       "1               2.346151  1.191438           0.241988           0.155707   \n",
       "2              -0.426230 -0.658973          -0.932014           0.155707   \n",
       "3              -0.426230  0.266233          -0.932014           0.155707   \n",
       "4              -0.426230  1.191438           0.241988           0.155707   \n",
       "...                  ...       ...                ...                ...   \n",
       "1465           -0.426230  0.266233           0.241988           0.155707   \n",
       "1466           -0.426230 -1.584178           0.241988           1.707500   \n",
       "1467            2.346151 -0.658973           0.241988          -2.171982   \n",
       "1468           -0.426230  1.191438          -0.932014           0.155707   \n",
       "1469           -0.426230 -1.584178          -0.932014           0.155707   \n",
       "\n",
       "      RelationshipSatisfaction  StockOptionLevel  TotalWorkingYears  \n",
       "0                    -2.493820         -0.164613          -0.679146  \n",
       "1                     0.338096          0.488508          -0.368715  \n",
       "2                     0.338096         -1.144294          -0.679146  \n",
       "3                     0.338096          0.161947           0.252146  \n",
       "4                     0.338096         -0.817734          -0.058285  \n",
       "...                        ...               ...                ...  \n",
       "1465                  0.338096         -0.327893          -0.679146  \n",
       "1466                  0.338096         -0.001333          -0.368715  \n",
       "1467                  0.338096         -0.164613          -0.679146  \n",
       "1468                 -1.077862          0.325228          -0.679146  \n",
       "1469                  1.754054         -0.491174          -0.368715  \n",
       "\n",
       "[1470 rows x 25 columns]"
      ]
     },
     "execution_count": 62,
     "metadata": {},
     "output_type": "execute_result"
    }
   ],
   "source": [
    "cols={}\n",
    "for i in range(len(df.columns)):\n",
    "    cols[i] = df.columns[i]\n",
    "\n",
    "X_std.rename(columns = cols, inplace=True)\n",
    "X_std.reset_index()\n",
    "X_std"
   ]
  },
  {
   "cell_type": "code",
   "execution_count": 63,
   "id": "a5943ad8",
   "metadata": {},
   "outputs": [],
   "source": [
    "from sklearn.linear_model import LinearRegression\n",
    "from sklearn.model_selection import train_test_split\n",
    "import statsmodels.api as sm"
   ]
  },
  {
   "cell_type": "markdown",
   "id": "367ca2b8",
   "metadata": {},
   "source": [
    "### Model Implementation"
   ]
  },
  {
   "cell_type": "code",
   "execution_count": 64,
   "id": "11af189f",
   "metadata": {},
   "outputs": [
    {
     "data": {
      "text/html": [
       "<table class=\"simpletable\">\n",
       "<caption>OLS Regression Results</caption>\n",
       "<tr>\n",
       "  <th>Dep. Variable:</th>        <td>Attrition</td>    <th>  R-squared:         </th> <td>   0.255</td>\n",
       "</tr>\n",
       "<tr>\n",
       "  <th>Model:</th>                   <td>OLS</td>       <th>  Adj. R-squared:    </th> <td>   0.185</td>\n",
       "</tr>\n",
       "<tr>\n",
       "  <th>Method:</th>             <td>Least Squares</td>  <th>  F-statistic:       </th> <td>   3.660</td>\n",
       "</tr>\n",
       "<tr>\n",
       "  <th>Date:</th>             <td>Thu, 14 Oct 2021</td> <th>  Prob (F-statistic):</th> <td>5.57e-08</td>\n",
       "</tr>\n",
       "<tr>\n",
       "  <th>Time:</th>                 <td>07:14:52</td>     <th>  Log-Likelihood:    </th> <td> -73.666</td>\n",
       "</tr>\n",
       "<tr>\n",
       "  <th>No. Observations:</th>      <td>   294</td>      <th>  AIC:               </th> <td>   199.3</td>\n",
       "</tr>\n",
       "<tr>\n",
       "  <th>Df Residuals:</th>          <td>   268</td>      <th>  BIC:               </th> <td>   295.1</td>\n",
       "</tr>\n",
       "<tr>\n",
       "  <th>Df Model:</th>              <td>    25</td>      <th>                     </th>     <td> </td>   \n",
       "</tr>\n",
       "<tr>\n",
       "  <th>Covariance Type:</th>      <td>nonrobust</td>    <th>                     </th>     <td> </td>   \n",
       "</tr>\n",
       "</table>\n",
       "<table class=\"simpletable\">\n",
       "<tr>\n",
       "              <td></td>                <th>coef</th>     <th>std err</th>      <th>t</th>      <th>P>|t|</th>  <th>[0.025</th>    <th>0.975]</th>  \n",
       "</tr>\n",
       "<tr>\n",
       "  <th>const</th>                    <td>    0.1625</td> <td>    0.020</td> <td>    8.278</td> <td> 0.000</td> <td>    0.124</td> <td>    0.201</td>\n",
       "</tr>\n",
       "<tr>\n",
       "  <th>Age</th>                      <td>   -0.0370</td> <td>    0.023</td> <td>   -1.631</td> <td> 0.104</td> <td>   -0.082</td> <td>    0.008</td>\n",
       "</tr>\n",
       "<tr>\n",
       "  <th>Attrition</th>                <td>    0.0153</td> <td>    0.020</td> <td>    0.774</td> <td> 0.440</td> <td>   -0.024</td> <td>    0.054</td>\n",
       "</tr>\n",
       "<tr>\n",
       "  <th>BusinessTravel</th>           <td>    0.0203</td> <td>    0.021</td> <td>    0.987</td> <td> 0.325</td> <td>   -0.020</td> <td>    0.061</td>\n",
       "</tr>\n",
       "<tr>\n",
       "  <th>DailyRate</th>                <td>    0.0500</td> <td>    0.027</td> <td>    1.843</td> <td> 0.066</td> <td>   -0.003</td> <td>    0.103</td>\n",
       "</tr>\n",
       "<tr>\n",
       "  <th>Department</th>               <td>    0.0084</td> <td>    0.019</td> <td>    0.434</td> <td> 0.664</td> <td>   -0.030</td> <td>    0.047</td>\n",
       "</tr>\n",
       "<tr>\n",
       "  <th>DistanceFromHome</th>         <td>   -0.0001</td> <td>    0.021</td> <td>   -0.006</td> <td> 0.995</td> <td>   -0.042</td> <td>    0.042</td>\n",
       "</tr>\n",
       "<tr>\n",
       "  <th>Education</th>                <td>    0.0216</td> <td>    0.021</td> <td>    1.047</td> <td> 0.296</td> <td>   -0.019</td> <td>    0.062</td>\n",
       "</tr>\n",
       "<tr>\n",
       "  <th>EducationField</th>           <td>   -0.0626</td> <td>    0.019</td> <td>   -3.232</td> <td> 0.001</td> <td>   -0.101</td> <td>   -0.024</td>\n",
       "</tr>\n",
       "<tr>\n",
       "  <th>EnvironmentSatisfaction</th>  <td>    0.0127</td> <td>    0.020</td> <td>    0.638</td> <td> 0.524</td> <td>   -0.027</td> <td>    0.052</td>\n",
       "</tr>\n",
       "<tr>\n",
       "  <th>Gender</th>                   <td>   -0.0068</td> <td>    0.019</td> <td>   -0.356</td> <td> 0.722</td> <td>   -0.044</td> <td>    0.031</td>\n",
       "</tr>\n",
       "<tr>\n",
       "  <th>HourlyRate</th>               <td>   -0.0214</td> <td>    0.020</td> <td>   -1.085</td> <td> 0.279</td> <td>   -0.060</td> <td>    0.017</td>\n",
       "</tr>\n",
       "<tr>\n",
       "  <th>JobInvolvement</th>           <td>    0.0096</td> <td>    0.025</td> <td>    0.379</td> <td> 0.705</td> <td>   -0.040</td> <td>    0.059</td>\n",
       "</tr>\n",
       "<tr>\n",
       "  <th>JobLevel</th>                 <td>   -0.0721</td> <td>    0.019</td> <td>   -3.701</td> <td> 0.000</td> <td>   -0.111</td> <td>   -0.034</td>\n",
       "</tr>\n",
       "<tr>\n",
       "  <th>JobRole</th>                  <td>    0.0149</td> <td>    0.027</td> <td>    0.548</td> <td> 0.584</td> <td>   -0.039</td> <td>    0.068</td>\n",
       "</tr>\n",
       "<tr>\n",
       "  <th>JobSatisfaction</th>          <td>   -0.0378</td> <td>    0.025</td> <td>   -1.514</td> <td> 0.131</td> <td>   -0.087</td> <td>    0.011</td>\n",
       "</tr>\n",
       "<tr>\n",
       "  <th>MaritalStatus</th>            <td>   -0.0235</td> <td>    0.020</td> <td>   -1.191</td> <td> 0.235</td> <td>   -0.062</td> <td>    0.015</td>\n",
       "</tr>\n",
       "<tr>\n",
       "  <th>MonthlyIncome</th>            <td>    0.0304</td> <td>    0.022</td> <td>    1.386</td> <td> 0.167</td> <td>   -0.013</td> <td>    0.074</td>\n",
       "</tr>\n",
       "<tr>\n",
       "  <th>MonthlyRate</th>              <td>    0.0860</td> <td>    0.020</td> <td>    4.275</td> <td> 0.000</td> <td>    0.046</td> <td>    0.126</td>\n",
       "</tr>\n",
       "<tr>\n",
       "  <th>NumCompaniesWorked</th>       <td>   -0.0132</td> <td>    0.019</td> <td>   -0.689</td> <td> 0.491</td> <td>   -0.051</td> <td>    0.024</td>\n",
       "</tr>\n",
       "<tr>\n",
       "  <th>OverTime</th>                 <td>   -0.0437</td> <td>    0.020</td> <td>   -2.163</td> <td> 0.031</td> <td>   -0.083</td> <td>   -0.004</td>\n",
       "</tr>\n",
       "<tr>\n",
       "  <th>PercentSalaryHike</th>        <td>   -0.0606</td> <td>    0.028</td> <td>   -2.169</td> <td> 0.031</td> <td>   -0.116</td> <td>   -0.006</td>\n",
       "</tr>\n",
       "<tr>\n",
       "  <th>PerformanceRating</th>        <td>   -0.0316</td> <td>    0.019</td> <td>   -1.658</td> <td> 0.099</td> <td>   -0.069</td> <td>    0.006</td>\n",
       "</tr>\n",
       "<tr>\n",
       "  <th>RelationshipSatisfaction</th> <td>   -0.0069</td> <td>    0.019</td> <td>   -0.368</td> <td> 0.713</td> <td>   -0.044</td> <td>    0.030</td>\n",
       "</tr>\n",
       "<tr>\n",
       "  <th>StockOptionLevel</th>         <td>   -0.0268</td> <td>    0.027</td> <td>   -0.983</td> <td> 0.327</td> <td>   -0.081</td> <td>    0.027</td>\n",
       "</tr>\n",
       "<tr>\n",
       "  <th>TotalWorkingYears</th>        <td>    0.0315</td> <td>    0.024</td> <td>    1.298</td> <td> 0.195</td> <td>   -0.016</td> <td>    0.079</td>\n",
       "</tr>\n",
       "</table>\n",
       "<table class=\"simpletable\">\n",
       "<tr>\n",
       "  <th>Omnibus:</th>       <td>58.462</td> <th>  Durbin-Watson:     </th> <td>   2.090</td>\n",
       "</tr>\n",
       "<tr>\n",
       "  <th>Prob(Omnibus):</th> <td> 0.000</td> <th>  Jarque-Bera (JB):  </th> <td>  87.881</td>\n",
       "</tr>\n",
       "<tr>\n",
       "  <th>Skew:</th>          <td> 1.249</td> <th>  Prob(JB):          </th> <td>8.26e-20</td>\n",
       "</tr>\n",
       "<tr>\n",
       "  <th>Kurtosis:</th>      <td> 3.967</td> <th>  Cond. No.          </th> <td>    3.07</td>\n",
       "</tr>\n",
       "</table><br/><br/>Notes:<br/>[1] Standard Errors assume that the covariance matrix of the errors is correctly specified."
      ],
      "text/plain": [
       "<class 'statsmodels.iolib.summary.Summary'>\n",
       "\"\"\"\n",
       "                            OLS Regression Results                            \n",
       "==============================================================================\n",
       "Dep. Variable:              Attrition   R-squared:                       0.255\n",
       "Model:                            OLS   Adj. R-squared:                  0.185\n",
       "Method:                 Least Squares   F-statistic:                     3.660\n",
       "Date:                Thu, 14 Oct 2021   Prob (F-statistic):           5.57e-08\n",
       "Time:                        07:14:52   Log-Likelihood:                -73.666\n",
       "No. Observations:                 294   AIC:                             199.3\n",
       "Df Residuals:                     268   BIC:                             295.1\n",
       "Df Model:                          25                                         \n",
       "Covariance Type:            nonrobust                                         \n",
       "============================================================================================\n",
       "                               coef    std err          t      P>|t|      [0.025      0.975]\n",
       "--------------------------------------------------------------------------------------------\n",
       "const                        0.1625      0.020      8.278      0.000       0.124       0.201\n",
       "Age                         -0.0370      0.023     -1.631      0.104      -0.082       0.008\n",
       "Attrition                    0.0153      0.020      0.774      0.440      -0.024       0.054\n",
       "BusinessTravel               0.0203      0.021      0.987      0.325      -0.020       0.061\n",
       "DailyRate                    0.0500      0.027      1.843      0.066      -0.003       0.103\n",
       "Department                   0.0084      0.019      0.434      0.664      -0.030       0.047\n",
       "DistanceFromHome            -0.0001      0.021     -0.006      0.995      -0.042       0.042\n",
       "Education                    0.0216      0.021      1.047      0.296      -0.019       0.062\n",
       "EducationField              -0.0626      0.019     -3.232      0.001      -0.101      -0.024\n",
       "EnvironmentSatisfaction      0.0127      0.020      0.638      0.524      -0.027       0.052\n",
       "Gender                      -0.0068      0.019     -0.356      0.722      -0.044       0.031\n",
       "HourlyRate                  -0.0214      0.020     -1.085      0.279      -0.060       0.017\n",
       "JobInvolvement               0.0096      0.025      0.379      0.705      -0.040       0.059\n",
       "JobLevel                    -0.0721      0.019     -3.701      0.000      -0.111      -0.034\n",
       "JobRole                      0.0149      0.027      0.548      0.584      -0.039       0.068\n",
       "JobSatisfaction             -0.0378      0.025     -1.514      0.131      -0.087       0.011\n",
       "MaritalStatus               -0.0235      0.020     -1.191      0.235      -0.062       0.015\n",
       "MonthlyIncome                0.0304      0.022      1.386      0.167      -0.013       0.074\n",
       "MonthlyRate                  0.0860      0.020      4.275      0.000       0.046       0.126\n",
       "NumCompaniesWorked          -0.0132      0.019     -0.689      0.491      -0.051       0.024\n",
       "OverTime                    -0.0437      0.020     -2.163      0.031      -0.083      -0.004\n",
       "PercentSalaryHike           -0.0606      0.028     -2.169      0.031      -0.116      -0.006\n",
       "PerformanceRating           -0.0316      0.019     -1.658      0.099      -0.069       0.006\n",
       "RelationshipSatisfaction    -0.0069      0.019     -0.368      0.713      -0.044       0.030\n",
       "StockOptionLevel            -0.0268      0.027     -0.983      0.327      -0.081       0.027\n",
       "TotalWorkingYears            0.0315      0.024      1.298      0.195      -0.016       0.079\n",
       "==============================================================================\n",
       "Omnibus:                       58.462   Durbin-Watson:                   2.090\n",
       "Prob(Omnibus):                  0.000   Jarque-Bera (JB):               87.881\n",
       "Skew:                           1.249   Prob(JB):                     8.26e-20\n",
       "Kurtosis:                       3.967   Cond. No.                         3.07\n",
       "==============================================================================\n",
       "\n",
       "Notes:\n",
       "[1] Standard Errors assume that the covariance matrix of the errors is correctly specified.\n",
       "\"\"\""
      ]
     },
     "execution_count": 64,
     "metadata": {},
     "output_type": "execute_result"
    }
   ],
   "source": [
    "lm = LinearRegression()\n",
    "X = X_std\n",
    "y = y\n",
    "X_train, X_test, y_train, y_test = train_test_split( X, y, test_size=0.2, random_state=101)\n",
    "X_endog = sm.add_constant(X_test)\n",
    "res = sm.OLS(y_test, X_endog)\n",
    "res.fit()\n",
    "res.fit().summary()"
   ]
  },
  {
   "cell_type": "markdown",
   "id": "b2371dc2",
   "metadata": {},
   "source": [
    "# Logistic Regression"
   ]
  },
  {
   "cell_type": "code",
   "execution_count": 65,
   "id": "485e7003",
   "metadata": {},
   "outputs": [],
   "source": [
    "from sklearn.preprocessing import StandardScaler\n",
    "from sklearn.linear_model import LogisticRegression\n",
    "from sklearn.model_selection import train_test_split\n",
    "from sklearn import metrics"
   ]
  },
  {
   "cell_type": "code",
   "execution_count": 66,
   "id": "c05277fd",
   "metadata": {},
   "outputs": [],
   "source": [
    "sc = StandardScaler()\n",
    "X = sc.fit_transform(X)"
   ]
  },
  {
   "cell_type": "code",
   "execution_count": 67,
   "id": "5ca0a4c1",
   "metadata": {},
   "outputs": [
    {
     "name": "stdout",
     "output_type": "stream",
     "text": [
      "Mean: (0, 0)\n",
      "Standard deviation: (1, 1)\n"
     ]
    }
   ],
   "source": [
    "mean = np.mean(X, axis=0)\n",
    "print('Mean: (%d, %d)' % (mean[0], mean[1]))\n",
    "standard_deviation = np.std(X, axis=0)\n",
    "print('Standard deviation: (%d, %d)' % (standard_deviation[0], standard_deviation[1]))"
   ]
  },
  {
   "cell_type": "code",
   "execution_count": 68,
   "id": "e35bb96b",
   "metadata": {},
   "outputs": [
    {
     "name": "stdout",
     "output_type": "stream",
     "text": [
      "[[ 4.46350404e-01  5.90048338e-01  7.42526534e-01  1.40151234e+00\n",
      "  -1.01090934e+00 -8.91688250e-01 -9.37413693e-01 -6.60530674e-01\n",
      "  -1.22474487e+00  1.38313827e+00  3.79672129e-01  1.03271569e+00\n",
      "   1.15325359e+00  1.23682046e+00 -1.08349514e-01  7.26019941e-01\n",
      "   2.12513592e+00  1.59174553e+00 -4.26230015e-01 -1.58417824e+00\n",
      "  -9.32014389e-01 -2.17198183e+00 -2.49382042e+00 -1.64613109e-01\n",
      "  -6.79145684e-01]\n",
      " [ 1.32236521e+00 -9.13194394e-01 -1.29777460e+00 -4.93817137e-01\n",
      "  -1.47149720e-01 -1.86842575e+00 -9.37413693e-01  2.54624925e-01\n",
      "   8.16496581e-01 -2.40676770e-01 -1.02616674e+00  6.26374133e-01\n",
      "  -6.60853181e-01 -1.33282084e-01 -2.91718590e-01  1.48887614e+00\n",
      "  -6.78049393e-01 -6.28241122e-01  2.34615106e+00  1.19143799e+00\n",
      "   2.41988312e-01  1.55707081e-01  3.38096164e-01  4.88507728e-01\n",
      "  -3.68715287e-01]\n",
      " [ 8.34299820e-03  5.90048338e-01  1.41436324e+00 -4.93817137e-01\n",
      "  -8.87515111e-01 -8.91688250e-01  1.31667267e+00  1.16978053e+00\n",
      "   8.16496581e-01  1.28472523e+00 -1.02616674e+00 -9.98992108e-01\n",
      "   2.46200205e-01  1.23682046e+00 -9.37653691e-01 -1.67484086e+00\n",
      "   1.32422583e+00  1.59174553e+00 -4.26230015e-01 -6.58972832e-01\n",
      "  -9.32014389e-01  1.55707081e-01  3.38096164e-01 -1.14429437e+00\n",
      "  -6.79145684e-01]\n",
      " [-4.29664407e-01 -9.13194394e-01  1.46146618e+00 -4.93817137e-01\n",
      "  -7.64120879e-01  1.06178675e+00 -9.37413693e-01  1.16978053e+00\n",
      "  -1.22474487e+00 -4.86709351e-01  3.79672129e-01  6.26374133e-01\n",
      "   2.46200205e-01 -1.33282084e-01 -7.63633675e-01  1.24321058e+00\n",
      "  -6.78049393e-01  1.59174553e+00 -4.26230015e-01  2.66232577e-01\n",
      "  -9.32014389e-01  1.55707081e-01  3.38096164e-01  1.61947310e-01\n",
      "   2.52145506e-01]\n",
      " [-1.08667552e+00  5.90048338e-01 -5.24294706e-01 -4.93817137e-01\n",
      "  -8.87515111e-01 -1.86842575e+00  5.65310548e-01 -1.57568627e+00\n",
      "   8.16496581e-01 -1.27401361e+00  3.79672129e-01 -9.98992108e-01\n",
      "  -6.60853181e-01 -1.33282084e-01 -6.44858109e-01  3.25899897e-01\n",
      "   2.52559097e+00 -6.28241122e-01 -4.26230015e-01  1.19143799e+00\n",
      "   2.41988312e-01  1.55707081e-01  3.38096164e-01 -8.17733947e-01\n",
      "  -5.82848908e-02]\n",
      " [-5.39166258e-01 -9.13194394e-01  5.02053617e-01 -4.93817137e-01\n",
      "  -8.87515111e-01 -8.91688250e-01 -9.37413693e-01  1.16978053e+00\n",
      "   8.16496581e-01  6.45040523e-01  3.79672129e-01 -9.98992108e-01\n",
      "   1.15325359e+00  1.23682046e+00 -7.29849570e-01 -3.44199283e-01\n",
      "  -1.07850444e+00 -6.28241122e-01 -4.26230015e-01  2.66232577e-01\n",
      "  -9.32014389e-01 -6.20189223e-01 -1.07786213e+00 -1.33289967e-03\n",
      "   2.52145506e-01]\n",
      " [ 2.41738373e+00  5.90048338e-01  1.29288723e+00 -4.93817137e-01\n",
      "  -7.64120879e-01  8.50492519e-02  5.65310548e-01  2.54624925e-01\n",
      "  -1.22474487e+00  7.43453555e-01  1.78551099e+00 -9.98992108e-01\n",
      "  -1.56790657e+00 -1.33282084e-01 -8.14416073e-01 -6.11227061e-01\n",
      "   5.23315743e-01  1.59174553e+00  2.34615106e+00 -1.58417824e+00\n",
      "   2.58999371e+00  1.55707081e-01 -1.07786213e+00 -9.81014156e-01\n",
      "  -6.79145684e-01]\n",
      " [-7.58169961e-01  5.90048338e-01  1.37717670e+00 -4.93817137e-01\n",
      "   1.82715799e+00 -1.86842575e+00 -9.37413693e-01  1.16978053e+00\n",
      "   8.16496581e-01  5.45623276e-02  3.79672129e-01 -9.98992108e-01\n",
      "   2.46200205e-01 -1.50338463e+00 -8.09529064e-01 -1.37463567e-01\n",
      "  -6.78049393e-01 -6.28241122e-01  2.34615106e+00 -6.58972832e-01\n",
      "   2.41988312e-01 -6.20189223e-01  3.38096164e-01 -9.81014156e-01\n",
      "  -6.79145684e-01]\n",
      " [ 1.17844850e-01 -9.13194394e-01 -1.45395804e+00 -4.93817137e-01\n",
      "   1.70376376e+00  8.50492519e-02 -9.37413693e-01  1.16978053e+00\n",
      "   8.16496581e-01 -1.07718755e+00 -1.02616674e+00 -1.86308988e-01\n",
      "   2.46200205e-01  1.23682046e+00  6.42337563e-01 -7.76643742e-01\n",
      "  -1.07850444e+00 -6.28241122e-01  2.34615106e+00 -6.58972832e-01\n",
      "  -9.32014389e-01 -6.20189223e-01  3.38096164e-01  3.25227519e-01\n",
      "  -3.68715287e-01]\n",
      " [-1.01158853e-01  5.90048338e-01  1.23090967e+00 -4.93817137e-01\n",
      "   2.19734068e+00  8.50492519e-02  5.65310548e-01  2.54624925e-01\n",
      "   8.16496581e-01  1.38313827e+00  3.79672129e-01 -1.81167523e+00\n",
      "   2.46200205e-01 -1.33282084e-01 -2.68983374e-01  3.18170146e-01\n",
      "   1.32422583e+00 -6.28241122e-01 -4.26230015e-01 -6.58972832e-01\n",
      "   1.41599101e+00  1.55707081e-01 -1.07786213e+00 -1.33289967e-03\n",
      "   1.49386709e+00]]\n"
     ]
    }
   ],
   "source": [
    "print(X[0:10,:])"
   ]
  },
  {
   "cell_type": "markdown",
   "id": "d50a68b6",
   "metadata": {},
   "source": [
    "### Train - Test Split"
   ]
  },
  {
   "cell_type": "code",
   "execution_count": 69,
   "id": "349c5e26",
   "metadata": {},
   "outputs": [],
   "source": [
    "X_train, X_test, y_train, y_test = train_test_split(X, y, test_size = 0.2, random_state = 0)"
   ]
  },
  {
   "cell_type": "code",
   "execution_count": 70,
   "id": "460b93a5",
   "metadata": {},
   "outputs": [
    {
     "data": {
      "text/plain": [
       "LogisticRegression()"
      ]
     },
     "execution_count": 70,
     "metadata": {},
     "output_type": "execute_result"
    }
   ],
   "source": [
    "# instantiate the model (using the default parameters)\n",
    "logreg = LogisticRegression()\n",
    "# fit the model with data\n",
    "logreg.fit(X_train,y_train)"
   ]
  },
  {
   "cell_type": "code",
   "execution_count": 71,
   "id": "55d0ae3d",
   "metadata": {},
   "outputs": [
    {
     "data": {
      "text/plain": [
       "array([0, 0, 0, 0, 1, 0, 1, 0, 0, 0, 0, 0, 0, 1, 0, 0, 0, 0, 0, 0, 0, 0,\n",
       "       0, 0, 1, 1, 0, 0, 1, 0, 0, 0, 0, 0, 0, 0, 0, 0, 0, 0, 0, 0, 0, 0,\n",
       "       0, 0, 0, 0, 1, 0, 0, 0, 0, 0, 1, 0, 0, 0, 0, 0, 0, 0, 0, 0, 0, 0,\n",
       "       0, 0, 0, 0, 0, 0, 0, 0, 0, 0, 0, 0, 0, 0, 0, 0, 0, 0, 0, 0, 0, 0,\n",
       "       0, 0, 0, 0, 0, 0, 0, 0, 0, 0, 0, 0, 0, 1, 0, 0, 0, 0, 0, 0, 0, 0,\n",
       "       0, 0, 0, 0, 0, 0, 0, 0, 0, 0, 0, 0, 0, 1, 0, 0, 0, 0, 0, 0, 0, 0,\n",
       "       1, 1, 0, 0, 1, 0, 0, 0, 0, 0, 0, 0, 0, 0, 0, 0, 0, 0, 0, 0, 0, 0,\n",
       "       0, 0, 0, 0, 0, 0, 0, 0, 0, 1, 0, 0, 0, 0, 0, 0, 0, 0, 0, 0, 0, 0,\n",
       "       0, 0, 0, 0, 0, 0, 0, 1, 0, 0, 0, 0, 1, 0, 0, 0, 0, 0, 0, 0, 0, 0,\n",
       "       0, 0, 0, 0, 1, 0, 0, 0, 0, 0, 0, 0, 0, 0, 0, 0, 0, 0, 0, 0, 0, 0,\n",
       "       0, 0, 1, 0, 1, 0, 0, 0, 0, 0, 0, 0, 0, 0, 0, 0, 0, 0, 0, 0, 0, 0,\n",
       "       0, 0, 0, 0, 0, 0, 0, 0, 0, 0, 1, 0, 0, 0, 0, 1, 0, 0, 0, 0, 0, 0,\n",
       "       0, 0, 0, 0, 0, 0, 0, 0, 0, 0, 0, 0, 0, 0, 0, 0, 0, 0, 0, 0, 0, 0,\n",
       "       0, 0, 0, 0, 0, 1, 0, 0])"
      ]
     },
     "execution_count": 71,
     "metadata": {},
     "output_type": "execute_result"
    }
   ],
   "source": [
    "y_pred=logreg.predict(X_test)\n",
    "y_pred"
   ]
  },
  {
   "cell_type": "markdown",
   "id": "f92cebcb",
   "metadata": {},
   "source": [
    "### Confusion Matrix"
   ]
  },
  {
   "cell_type": "code",
   "execution_count": 72,
   "id": "cfdb634b",
   "metadata": {},
   "outputs": [
    {
     "data": {
      "text/plain": [
       "array([[239,   6],\n",
       "       [ 33,  16]], dtype=int64)"
      ]
     },
     "execution_count": 72,
     "metadata": {},
     "output_type": "execute_result"
    }
   ],
   "source": [
    "cnf_matrix = metrics.confusion_matrix(y_test, y_pred)\n",
    "cnf_matrix"
   ]
  },
  {
   "cell_type": "code",
   "execution_count": 73,
   "id": "41065d7a",
   "metadata": {},
   "outputs": [
    {
     "data": {
      "text/plain": [
       "Text(0.5, 257.44, 'Predicted label')"
      ]
     },
     "execution_count": 73,
     "metadata": {},
     "output_type": "execute_result"
    },
    {
     "data": {
      "image/png": "[encoded data removed]",
      "text/plain": [
       "<Figure size 432x288 with 2 Axes>"
      ]
     },
     "metadata": {
      "needs_background": "light"
     },
     "output_type": "display_data"
    }
   ],
   "source": [
    "class_names=[0,1] # name  of classes\n",
    "fig, ax = plt.subplots()\n",
    "tick_marks = np.arange(len(class_names))\n",
    "plt.xticks(tick_marks, class_names)\n",
    "plt.yticks(tick_marks, class_names)\n",
    "# create heatmap\n",
    "sns.heatmap(pd.DataFrame(cnf_matrix), annot=True, cmap=\"YlGnBu\" ,fmt='g')\n",
    "ax.xaxis.set_label_position(\"top\")\n",
    "plt.tight_layout()\n",
    "plt.title('Confusion matrix', y=1.1)\n",
    "plt.ylabel('Actual label')\n",
    "plt.xlabel('Predicted label')"
   ]
  },
  {
   "cell_type": "markdown",
   "id": "eafbf4c8",
   "metadata": {},
   "source": [
    "### Accuracy, Precision and Recall"
   ]
  },
  {
   "cell_type": "code",
   "execution_count": 74,
   "id": "7480913c",
   "metadata": {},
   "outputs": [
    {
     "name": "stdout",
     "output_type": "stream",
     "text": [
      "Accuracy: 0.8673469387755102\n",
      "Precision: 0.7272727272727273\n",
      "Recall: 0.32653061224489793\n"
     ]
    }
   ],
   "source": [
    "print(\"Accuracy:\",metrics.accuracy_score(y_test, y_pred))\n",
    "print(\"Precision:\",metrics.precision_score(y_test, y_pred))\n",
    "print(\"Recall:\",metrics.recall_score(y_test, y_pred))"
   ]
  },
  {
   "cell_type": "markdown",
   "id": "8998eb67",
   "metadata": {},
   "source": [
    "### Area Under the Curve"
   ]
  },
  {
   "cell_type": "code",
   "execution_count": 75,
   "id": "0d44440f",
   "metadata": {},
   "outputs": [
    {
     "data": {
      "image/png": "[encoded data removed]",
      "text/plain": [
       "<Figure size 432x288 with 1 Axes>"
      ]
     },
     "metadata": {
      "needs_background": "light"
     },
     "output_type": "display_data"
    }
   ],
   "source": [
    "y_pred_proba = logreg.predict_proba(X_test)[::,1]\n",
    "fpr, tpr, _ = metrics.roc_curve(y_test,  y_pred_proba)\n",
    "auc = metrics.roc_auc_score(y_test, y_pred_proba)\n",
    "plt.plot(fpr,tpr,label=\"data 1, auc=\"+str(auc))\n",
    "plt.legend(loc=4)\n",
    "plt.show()"
   ]
  },
  {
   "cell_type": "markdown",
   "id": "0d94689f",
   "metadata": {},
   "source": [
    "# Support Vector Machine"
   ]
  },
  {
   "cell_type": "markdown",
   "id": "20aa4a0d",
   "metadata": {},
   "source": [
    "### Train - Test Split"
   ]
  },
  {
   "cell_type": "code",
   "execution_count": 76,
   "id": "c4ffe30c",
   "metadata": {},
   "outputs": [],
   "source": [
    "X_train, X_test, y_train, y_test = train_test_split(X, y, test_size=0.2, random_state=1)"
   ]
  },
  {
   "cell_type": "markdown",
   "id": "c4ae3600",
   "metadata": {},
   "source": [
    "### Implementation with default HyperParameters"
   ]
  },
  {
   "cell_type": "code",
   "execution_count": 77,
   "id": "fd6ed5df",
   "metadata": {},
   "outputs": [
    {
     "name": "stdout",
     "output_type": "stream",
     "text": [
      "Accuracy Score:\n",
      "0.8571428571428571\n"
     ]
    }
   ],
   "source": [
    "from sklearn.svm import SVC\n",
    "from sklearn import metrics\n",
    "svc=SVC() #Default hyperparameters\n",
    "svc.fit(X_train,y_train)\n",
    "y_pred=svc.predict(X_test)\n",
    "print('Accuracy Score:')\n",
    "print(metrics.accuracy_score(y_test,y_pred))"
   ]
  },
  {
   "cell_type": "markdown",
   "id": "7eebbc9b",
   "metadata": {},
   "source": [
    "### Linear Kernel"
   ]
  },
  {
   "cell_type": "code",
   "execution_count": 78,
   "id": "1ac0abdf",
   "metadata": {},
   "outputs": [
    {
     "name": "stdout",
     "output_type": "stream",
     "text": [
      "Accuracy Score:\n",
      "0.8333333333333334\n"
     ]
    }
   ],
   "source": [
    "svc=SVC(kernel='linear')\n",
    "svc.fit(X_train,y_train)\n",
    "y_pred=svc.predict(X_test)\n",
    "print('Accuracy Score:')\n",
    "print(metrics.accuracy_score(y_test,y_pred))"
   ]
  },
  {
   "cell_type": "markdown",
   "id": "54e1de1e",
   "metadata": {},
   "source": [
    "### Polynomial Kernel"
   ]
  },
  {
   "cell_type": "code",
   "execution_count": 79,
   "id": "9f8e319a",
   "metadata": {},
   "outputs": [
    {
     "name": "stdout",
     "output_type": "stream",
     "text": [
      "Accuracy Score:\n",
      "0.8639455782312925\n"
     ]
    }
   ],
   "source": [
    "svc=SVC(kernel='poly')\n",
    "svc.fit(X_train,y_train)\n",
    "y_pred=svc.predict(X_test)\n",
    "print('Accuracy Score:')\n",
    "print(metrics.accuracy_score(y_test,y_pred))"
   ]
  },
  {
   "cell_type": "markdown",
   "id": "7e8bc474",
   "metadata": {},
   "source": [
    "### Radial Kernel"
   ]
  },
  {
   "cell_type": "code",
   "execution_count": 80,
   "id": "e286707b",
   "metadata": {},
   "outputs": [
    {
     "name": "stdout",
     "output_type": "stream",
     "text": [
      "Accuracy Score:\n",
      "0.8571428571428571\n"
     ]
    }
   ],
   "source": [
    "svc=SVC(kernel='rbf')\n",
    "svc.fit(X_train,y_train)\n",
    "y_pred=svc.predict(X_test)\n",
    "print('Accuracy Score:')\n",
    "print(metrics.accuracy_score(y_test,y_pred))"
   ]
  },
  {
   "cell_type": "markdown",
   "id": "d6ae9c1b",
   "metadata": {},
   "source": [
    "### Optimizing HyperParameter C"
   ]
  },
  {
   "cell_type": "code",
   "execution_count": 81,
   "id": "3267afba",
   "metadata": {},
   "outputs": [
    {
     "name": "stdout",
     "output_type": "stream",
     "text": [
      "[0.8489795918367348, 0.8510204081632654, 0.8510204081632654, 0.8510204081632654, 0.8510204081632654, 0.8510204081632654, 0.8510204081632654, 0.8510204081632654, 0.8510204081632654, 0.8510204081632654, 0.8510204081632654, 0.8510204081632654, 0.8510204081632654, 0.8510204081632654, 0.8510204081632654, 0.8510204081632654, 0.8510204081632654, 0.8510204081632654, 0.8510204081632654, 0.8510204081632654, 0.8510204081632654, 0.8510204081632654, 0.8510204081632654, 0.8510204081632654, 0.8510204081632654]\n"
     ]
    }
   ],
   "source": [
    "from sklearn.model_selection import cross_val_score\n",
    "\n",
    "C_range=list(range(1,26))\n",
    "acc_score=[]\n",
    "for c in C_range:\n",
    "    svc = SVC(kernel='linear', C=c)\n",
    "    scores = cross_val_score(svc, X, y, cv=10, scoring='accuracy')\n",
    "    acc_score.append(scores.mean())\n",
    "print(acc_score)    "
   ]
  },
  {
   "cell_type": "code",
   "execution_count": 82,
   "id": "8ffd506b",
   "metadata": {},
   "outputs": [
    {
     "data": {
      "text/plain": [
       "Text(0, 0.5, 'Cross-Validated Accuracy')"
      ]
     },
     "execution_count": 82,
     "metadata": {},
     "output_type": "execute_result"
    },
    {
     "data": {
      "image/png": "[encoded data removed]",
      "text/plain": [
       "<Figure size 432x288 with 1 Axes>"
      ]
     },
     "metadata": {
      "needs_background": "light"
     },
     "output_type": "display_data"
    }
   ],
   "source": [
    "import matplotlib.pyplot as plt\n",
    "%matplotlib inline\n",
    "\n",
    "\n",
    "C_values=list(range(1,26))\n",
    "# plot the value of C for SVM (x-axis) versus the cross-validated accuracy (y-axis)\n",
    "plt.plot(C_values,acc_score)\n",
    "plt.xticks(np.arange(0,27,2))\n",
    "plt.xlabel('Value of C for SVC')\n",
    "plt.ylabel('Cross-Validated Accuracy')"
   ]
  },
  {
   "cell_type": "code",
   "execution_count": 83,
   "id": "cefedd9b",
   "metadata": {},
   "outputs": [
    {
     "name": "stdout",
     "output_type": "stream",
     "text": [
      "[0.8510204081632654, 0.8510204081632654, 0.8510204081632654, 0.8510204081632654, 0.8510204081632654, 0.8510204081632654, 0.8510204081632654, 0.8510204081632654, 0.8510204081632654, 0.8510204081632654, 0.8510204081632654, 0.8510204081632654, 0.8510204081632654, 0.8510204081632654, 0.8510204081632654, 0.8510204081632654, 0.8510204081632654, 0.8510204081632654, 0.8510204081632654, 0.8510204081632654]\n"
     ]
    }
   ],
   "source": [
    "C_range=list(np.arange(2,4,0.1))\n",
    "acc_score=[]\n",
    "for c in C_range:\n",
    "    svc = SVC(kernel='linear', C=c)\n",
    "    scores = cross_val_score(svc, X, y, cv=10, scoring='accuracy')\n",
    "    acc_score.append(scores.mean())\n",
    "print(acc_score)   "
   ]
  },
  {
   "cell_type": "markdown",
   "id": "b565494b",
   "metadata": {},
   "source": [
    "### Optimizing HyperParameter Gamma"
   ]
  },
  {
   "cell_type": "code",
   "execution_count": 84,
   "id": "fef64580",
   "metadata": {},
   "outputs": [
    {
     "name": "stdout",
     "output_type": "stream",
     "text": [
      "[0.8387755102040817, 0.8387755102040817, 0.8408163265306122, 0.8482993197278912, 0.8387755102040817, 0.8387755102040817, 0.8387755102040817]\n"
     ]
    }
   ],
   "source": [
    "gamma_range=[0.0001,0.001,0.01,0.1,1,10,100]\n",
    "acc_score=[]\n",
    "for g in gamma_range:\n",
    "    svc = SVC(kernel='rbf', gamma=g)\n",
    "    scores = cross_val_score(svc, X, y, cv=10, scoring='accuracy')\n",
    "    acc_score.append(scores.mean())\n",
    "print(acc_score)    "
   ]
  },
  {
   "cell_type": "code",
   "execution_count": 85,
   "id": "f6dd36d3",
   "metadata": {},
   "outputs": [
    {
     "data": {
      "text/plain": [
       "Text(0, 0.5, 'Cross-Validated Accuracy')"
      ]
     },
     "execution_count": 85,
     "metadata": {},
     "output_type": "execute_result"
    },
    {
     "data": {
      "image/png": "[encoded data removed]",
      "text/plain": [
       "<Figure size 432x288 with 1 Axes>"
      ]
     },
     "metadata": {
      "needs_background": "light"
     },
     "output_type": "display_data"
    }
   ],
   "source": [
    "import matplotlib.pyplot as plt\n",
    "%matplotlib inline\n",
    "\n",
    "gamma_range=[0.0001,0.001,0.01,0.1,1,10,100]\n",
    "\n",
    "# plot the value of C for SVM (x-axis) versus the cross-validated accuracy (y-axis)\n",
    "plt.plot(gamma_range,acc_score)\n",
    "plt.xlabel('Value of gamma for SVC ')\n",
    "plt.xticks(np.arange(0.0001,100,5))\n",
    "plt.ylabel('Cross-Validated Accuracy')"
   ]
  },
  {
   "cell_type": "markdown",
   "id": "29f8a217",
   "metadata": {},
   "source": [
    "### Finding the best parameters using GidSearchCV"
   ]
  },
  {
   "cell_type": "code",
   "execution_count": 86,
   "id": "0d9d940e",
   "metadata": {},
   "outputs": [],
   "source": [
    "from sklearn.svm import SVC\n",
    "svm_model= SVC()"
   ]
  },
  {
   "cell_type": "code",
   "execution_count": 87,
   "id": "b150772f",
   "metadata": {},
   "outputs": [],
   "source": [
    "tuned_parameters = {\n",
    " 'C': (np.arange(2,3,0.1)) , 'kernel': ['linear', 'poly', 'rbf'],\n",
    " 'C': (np.arange(2,3,0.1)) , 'gamma': [0.01,0.02,0.03,0.04,0.05], 'kernel': ['linear', 'poly', 'rbf'],\n",
    " 'degree': [2,3,4] ,'gamma':[0.01,0.1,1], 'C':(np.arange(2,3,0.1)) , 'kernel':['poly', 'linear','rbf']\n",
    "    }"
   ]
  },
  {
   "cell_type": "code",
   "execution_count": 88,
   "id": "b54132b6",
   "metadata": {},
   "outputs": [],
   "source": [
    "from sklearn.model_selection import GridSearchCV\n",
    "\n",
    "model_svm = GridSearchCV(svm_model, tuned_parameters,cv=10,scoring='accuracy')"
   ]
  },
  {
   "cell_type": "code",
   "execution_count": 89,
   "id": "9be78a6f",
   "metadata": {},
   "outputs": [
    {
     "name": "stdout",
     "output_type": "stream",
     "text": [
      "0.8596841952774156\n"
     ]
    }
   ],
   "source": [
    "model_svm.fit(X_train, y_train)\n",
    "print(model_svm.best_score_)"
   ]
  },
  {
   "cell_type": "code",
   "execution_count": 90,
   "id": "457f2a28",
   "metadata": {},
   "outputs": [
    {
     "name": "stdout",
     "output_type": "stream",
     "text": [
      "{'C': 2.900000000000001, 'degree': 2, 'gamma': 0.01, 'kernel': 'rbf'}\n"
     ]
    }
   ],
   "source": [
    "print(model_svm.best_params_)"
   ]
  },
  {
   "cell_type": "code",
   "execution_count": 92,
   "id": "02e5a017",
   "metadata": {},
   "outputs": [
    {
     "data": {
      "text/plain": [
       "array([0, 0, 0, 0, 1, 0, 0, 0, 0, 0, 0, 0, 0, 1, 0, 0, 0, 0, 0, 0, 0, 0,\n",
       "       0, 0, 1, 0, 0, 0, 1, 0, 0, 0, 0, 0, 0, 0, 0, 0, 0, 0, 0, 0, 0, 0,\n",
       "       0, 0, 0, 0, 1, 0, 0, 0, 0, 0, 1, 0, 0, 0, 0, 0, 0, 0, 0, 0, 0, 0,\n",
       "       0, 0, 0, 0, 0, 0, 0, 0, 0, 0, 0, 0, 0, 0, 0, 0, 0, 0, 0, 0, 0, 0,\n",
       "       0, 0, 0, 0, 0, 0, 0, 0, 0, 0, 0, 0, 0, 1, 0, 0, 0, 0, 0, 0, 0, 0,\n",
       "       0, 0, 0, 0, 0, 0, 0, 0, 0, 0, 0, 0, 0, 1, 0, 0, 0, 0, 0, 0, 0, 0,\n",
       "       0, 0, 0, 0, 1, 0, 0, 0, 0, 0, 0, 0, 0, 0, 0, 0, 0, 0, 0, 0, 0, 0,\n",
       "       0, 0, 0, 0, 0, 0, 0, 0, 0, 1, 0, 0, 0, 0, 0, 0, 0, 0, 0, 0, 0, 0,\n",
       "       0, 0, 0, 0, 0, 0, 0, 1, 0, 0, 0, 0, 0, 0, 1, 0, 0, 0, 0, 0, 0, 0,\n",
       "       0, 0, 0, 0, 0, 0, 0, 0, 0, 0, 0, 0, 0, 0, 0, 0, 0, 0, 0, 0, 0, 0,\n",
       "       0, 0, 1, 0, 0, 0, 0, 0, 0, 0, 0, 0, 0, 0, 0, 0, 0, 0, 0, 0, 0, 0,\n",
       "       0, 0, 0, 0, 0, 0, 0, 0, 0, 0, 1, 0, 0, 0, 0, 1, 0, 0, 0, 0, 0, 0,\n",
       "       0, 0, 0, 0, 0, 0, 0, 0, 0, 0, 0, 0, 0, 0, 0, 0, 0, 0, 0, 0, 0, 0,\n",
       "       0, 0, 0, 0, 0, 1, 0, 0])"
      ]
     },
     "execution_count": 92,
     "metadata": {},
     "output_type": "execute_result"
    }
   ],
   "source": [
    "y_pred=model_svm.predict(X_test)\n",
    "y_pred"
   ]
  },
  {
   "cell_type": "code",
   "execution_count": 93,
   "id": "1eb2ce1b",
   "metadata": {},
   "outputs": [
    {
     "data": {
      "text/plain": [
       "array([[241,   4],\n",
       "       [ 37,  12]], dtype=int64)"
      ]
     },
     "execution_count": 93,
     "metadata": {},
     "output_type": "execute_result"
    }
   ],
   "source": [
    "cnf_matrix = metrics.confusion_matrix(y_test, y_pred)\n",
    "cnf_matrix"
   ]
  },
  {
   "cell_type": "code",
   "execution_count": 94,
   "id": "b4c882e9",
   "metadata": {},
   "outputs": [
    {
     "data": {
      "text/plain": [
       "Text(0.5, 257.44, 'Predicted label')"
      ]
     },
     "execution_count": 94,
     "metadata": {},
     "output_type": "execute_result"
    },
    {
     "data": {
      "image/png": "[encoded data removed]",
      "text/plain": [
       "<Figure size 432x288 with 2 Axes>"
      ]
     },
     "metadata": {
      "needs_background": "light"
     },
     "output_type": "display_data"
    }
   ],
   "source": [
    "class_names=[0,1] # name  of classes\n",
    "fig, ax = plt.subplots()\n",
    "tick_marks = np.arange(len(class_names))\n",
    "plt.xticks(tick_marks, class_names)\n",
    "plt.yticks(tick_marks, class_names)\n",
    "# create heatmap\n",
    "sns.heatmap(pd.DataFrame(cnf_matrix), annot=True, cmap=\"YlGnBu\" ,fmt='g')\n",
    "ax.xaxis.set_label_position(\"top\")\n",
    "plt.tight_layout()\n",
    "plt.title('Confusion matrix', y=1.1)\n",
    "plt.ylabel('Actual label')\n",
    "plt.xlabel('Predicted label')"
   ]
  },
  {
   "cell_type": "code",
   "execution_count": 95,
   "id": "a9a8a434",
   "metadata": {},
   "outputs": [
    {
     "name": "stdout",
     "output_type": "stream",
     "text": [
      "Accuracy: 0.8605442176870748\n",
      "Precision: 0.75\n",
      "Recall: 0.24489795918367346\n"
     ]
    }
   ],
   "source": [
    "print(\"Accuracy:\",metrics.accuracy_score(y_test, y_pred))\n",
    "print(\"Precision:\",metrics.precision_score(y_test, y_pred))\n",
    "print(\"Recall:\",metrics.recall_score(y_test, y_pred))"
   ]
  }
 ],
 "metadata": {
  "kernelspec": {
   "display_name": "Python 3",
   "language": "python",
   "name": "python3"
  },
  "language_info": {
   "codemirror_mode": {
    "name": "ipython",
    "version": 3
   },
   "file_extension": ".py",
   "mimetype": "text/x-python",
   "name": "python",
   "nbconvert_exporter": "python",
   "pygments_lexer": "ipython3",
   "version": "3.8.8"
  }
 },
 "nbformat": 4,
 "nbformat_minor": 5
}
