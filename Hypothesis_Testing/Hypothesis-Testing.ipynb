{
 "cells": [
  {
   "cell_type": "markdown",
   "id": "042d6db8",
   "metadata": {},
   "source": [
    "The basis of hypothesis testing has two attributes:\n",
    "\n",
    "Null Hypothesis: $H_0$\n",
    "\n",
    "Alternative Hypothesis: $H_a$\n",
    "\n",
    "The tests we will discuss in this notebook are\n",
    "\n",
    "1. One Population Proportion\n",
    "2. Difference in Population Proportions\n",
    "3. One Population Mean\n",
    "4. Difference in Population Means"
   ]
  },
  {
   "cell_type": "code",
   "execution_count": 1,
   "id": "7060fc17",
   "metadata": {},
   "outputs": [],
   "source": [
    "#importing all important libraries and models \n",
    "import statsmodels.api as sm\n",
    "import numpy as np\n",
    "import pandas as pd\n",
    "import matplotlib.pyplot as plt"
   ]
  },
  {
   "cell_type": "markdown",
   "id": "8d265b1a",
   "metadata": {},
   "source": [
    "### One Population Propotion\n",
    "\n"
   ]
  },
  {
   "cell_type": "markdown",
   "id": "7c7f6f27",
   "metadata": {},
   "source": [
    "Research Question :- In previous years, 52% of parents believed that electronics and social media was the cause of their teenager’s lack of sleep. Do more parents today believe that their teenager’s lack of sleep is caused due to electronics and social media?\n",
    "\n",
    "Population: Parents with a teenager (age 13-18), Parameter of Interest: p\n",
    "\n",
    "Null Hypothesis: p = 0.52, Alternative Hypthosis: p > 0.52 (note that this is a one-sided test)\n",
    "\n",
    "Data:- 1018 people were surveyed. 56% of those who were surveyed believe that their teenager’s lack of sleep is caused due to electronics and social media.\n",
    "\n",
    "Use of proportions_ztest() from statsmodels\n",
    "\n",
    "Note the argument alternative=\"larger\" indicating a one-sided test. The function returns two values - the z-statistic and the corresponding p-value."
   ]
  },
  {
   "cell_type": "code",
   "execution_count": 3,
   "id": "dcaa2e19",
   "metadata": {},
   "outputs": [
    {
     "name": "stdout",
     "output_type": "stream",
     "text": [
      "the value of the z stats is :2.571067795759113\n",
      "the p value to coreponding to z stats is :0.005069273865860533\n"
     ]
    }
   ],
   "source": [
    "p = 0.52\n",
    "n= 1018\n",
    "data = 0.56\n",
    "\n",
    "Z_stats,p_value=sm.stats.proportions_ztest(data*n,n,p,alternative=\"larger\")\n",
    "print(\"the value of the z stats is :{}\" .format(Z_stats))\n",
    "print(\"the p value to coreponding to z stats is :{}\" .format(p_value))"
   ]
  },
  {
   "cell_type": "markdown",
   "id": "1d5565ce",
   "metadata": {},
   "source": [
    "Conclusion: Since the calculated p-value (~0.005) of the z-test is pretty small, we can reject the Null hypothesis that the percentage of parents, who believe that their teenager’s lack of sleep is caused due to electronics and social media, is as same as previous years’ estimate i.e. 52%. Although we do not accept the alternative hypothesis, this informally means that there is a good chance of this proportion being more than 52%."
   ]
  },
  {
   "cell_type": "markdown",
   "id": "a0ce3c6e",
   "metadata": {},
   "source": [
    "### Difference in Population Proportions"
   ]
  },
  {
   "cell_type": "markdown",
   "id": "ad4134f5",
   "metadata": {},
   "source": [
    "Research Question Is there a significant difference between the population proportions of parents of black children and parents of Hispanic children who report that their child has had some swimming lessons?\n",
    "\n",
    "Populations: All parents of black children age 6-18 and all parents of Hispanic children age 6-18 Parameter of Interest: p1 - p2, where p1 = black and p2 = hispanic\n",
    "\n",
    "Null Hypothesis: p1 - p2 = 0 Alternative Hypthosis: p1 - p2 $\\neq$ = 0\n",
    "\n",
    "Data: 247 Parents of Black Children. 36.8% of parents report that their child has had some swimming lessons. 308 Parents of Hispanic Children. 38.9% of parents report that their child has had some swimming lessons.\n",
    "\n",
    "Use of ttest_ind() from statsmodels Difference in population proportion needs t-test. Also, the population follow a binomial distribution here. We can just pass on the two population quantities with the appropriate binomial distribution parameters to the t-test function.\n",
    "\n",
    "The function returns three values: (a) test statisic, (b) p-value of the t-test, and (c) degrees of freedom used in the t-test."
   ]
  },
  {
   "cell_type": "code",
   "execution_count": 4,
   "id": "73b907ef",
   "metadata": {},
   "outputs": [],
   "source": [
    "n1=247\n",
    "p1=.37\n",
    "\n",
    "n2=308\n",
    "p2=.39\n",
    "\n",
    "population1 = np.random.binomial(1,p1,n1)\n",
    "population2 = np.random.binomial(1,p2,n2)"
   ]
  },
  {
   "cell_type": "code",
   "execution_count": 5,
   "id": "469ad8b5",
   "metadata": {},
   "outputs": [],
   "source": [
    "x,y,z=sm.stats.ttest_ind(population1,population2)"
   ]
  },
  {
   "cell_type": "code",
   "execution_count": 6,
   "id": "8953127f",
   "metadata": {},
   "outputs": [
    {
     "name": "stdout",
     "output_type": "stream",
     "text": [
      "the value of t Stats is:1.0368991283987257\n",
      "the p value of the t test is:0.3002360536344007\n",
      "the degree of freedom is:553.0\n"
     ]
    }
   ],
   "source": [
    "print('the value of t Stats is:{}'.format(x))\n",
    "print('the p value of the t test is:{}'.format(y))\n",
    "print('the degree of freedom is:{}'.format(z))"
   ]
  },
  {
   "cell_type": "markdown",
   "id": "ae16c96c",
   "metadata": {},
   "source": [
    "Conclusion of the hypothesis test Since the p-value is quite high ~0.768, we cannot reject the Null hypothesis in this case i.e. the difference in the population proportions are not statistically significant."
   ]
  },
  {
   "cell_type": "markdown",
   "id": "44858711",
   "metadata": {},
   "source": [
    "### One Population Mean"
   ]
  },
  {
   "cell_type": "markdown",
   "id": "17b7b5f1",
   "metadata": {},
   "source": [
    "One Population Mean Research Question Let's say a cartwheeling competition was organized for some adults. The data looks like following,\n",
    "\n",
    "(80.57, 98.96, 85.28, 83.83, 69.94, 89.59, 91.09, 66.25, 91.21, 82.7 , 73.54, 81.99, 54.01, 82.89, 75.88, 98.32, 107.2 , 85.53, 79.08, 84.3 , 89.32, 86.35, 78.98, 92.26, 87.01)\n",
    "\n",
    "Is distance Is the average cartwheel distance (in inches) for adults more than 80 inches?\n",
    "\n",
    "Population: All adults Parameter of Interest: $\\mu$, population mean cartwheel distance.\n",
    "\n",
    "Null Hypothesis: $\\mu$ = 80 Alternative Hypthosis: $\\mu$ > 80\n",
    "\n",
    "Data: 25 adult participants. $\\mu = 83.84$ $\\sigma = 10.72$"
   ]
  },
  {
   "cell_type": "code",
   "execution_count": 7,
   "id": "fef81613",
   "metadata": {},
   "outputs": [],
   "source": [
    "cwdata = np.array([80.57, 98.96, 85.28, 83.83, 69.94, 89.59, 91.09, 66.25, 91.21, 82.7 , 73.54, 81.99, 54.01, 82.89, 75.88, 98.32, 107.2 , 85.53, 79.08, 84.3 , 89.32, 86.35, 78.98, 92.26, 87.01])\n"
   ]
  },
  {
   "cell_type": "code",
   "execution_count": 8,
   "id": "476a5ba7",
   "metadata": {},
   "outputs": [
    {
     "data": {
      "text/plain": [
       "(25, 83.84320000000001, 10.716018932420752)"
      ]
     },
     "execution_count": 8,
     "metadata": {},
     "output_type": "execute_result"
    }
   ],
   "source": [
    "n=len(cwdata)\n",
    "mean=cwdata.sum()/n\n",
    "std=cwdata.std()\n",
    "(n,mean,std)"
   ]
  },
  {
   "cell_type": "code",
   "execution_count": 9,
   "id": "deff95a4",
   "metadata": {},
   "outputs": [
    {
     "data": {
      "text/plain": [
       "(1.756973189172546, 0.039461189601168366)"
      ]
     },
     "execution_count": 9,
     "metadata": {},
     "output_type": "execute_result"
    }
   ],
   "source": [
    " sm.stats.ztest(cwdata,value=80,alternative='larger')"
   ]
  },
  {
   "cell_type": "markdown",
   "id": "fd6b9048",
   "metadata": {},
   "source": [
    "Conclusion of the hypothesis test: Since the p-value (0.0394) is lower than the standard confidence level 0.05, we can reject the Null hypothesis that the mean cartwheel distance for adults (a population quantity) is equal to 80 inches. There is strong evidence in support for the alternatine hypothesis that the mean cartwheel distance is, in fact, higher than 80 inches. Note, we used alternative=\"larger\" in the z-test."
   ]
  },
  {
   "cell_type": "markdown",
   "id": "d9f7af70",
   "metadata": {},
   "source": [
    "### The difference in Population Means"
   ]
  },
  {
   "cell_type": "markdown",
   "id": "96555542",
   "metadata": {},
   "source": [
    "Difference in Population Means Research Question Considering adults in the NHANES data, do males have a significantly higher mean Body Mass Index than females?\n",
    "\n",
    "Population: Adults in the NHANES data., Parameter of Interest: $\\mu_1 - \\mu_2$, Body Mass Index.\n",
    "\n",
    "Null Hypothesis: $\\mu_1 = \\mu_2$, Alternative Hypthosis: $\\mu_1 \\neq \\mu_2$,\n",
    "\n",
    "Data:\n",
    "\n",
    "2976 Females $\\mu_1 = 29.94$ $\\sigma_1 = 7.75$\n",
    "\n",
    "2759 Male Adults $\\mu_2 = 28.78$ $\\sigma_2 = 6.25$\n",
    "\n",
    "$\\mu_1 - \\mu_2 = 1.16$"
   ]
  },
  {
   "cell_type": "code",
   "execution_count": 10,
   "id": "bb5887f2",
   "metadata": {},
   "outputs": [],
   "source": [
    "#reading the dataset\n",
    "data=pd.read_csv('https://raw.githubusercontent.com/kshedden/statswpy/master/NHANES/merged/nhanes_2015_2016.csv')"
   ]
  },
  {
   "cell_type": "code",
   "execution_count": 11,
   "id": "3bf456f3",
   "metadata": {},
   "outputs": [],
   "source": [
    "df=pd.DataFrame(data)"
   ]
  },
  {
   "cell_type": "code",
   "execution_count": 12,
   "id": "d95259a9",
   "metadata": {},
   "outputs": [
    {
     "data": {
      "text/html": [
       "<div>\n",
       "<style scoped>\n",
       "    .dataframe tbody tr th:only-of-type {\n",
       "        vertical-align: middle;\n",
       "    }\n",
       "\n",
       "    .dataframe tbody tr th {\n",
       "        vertical-align: top;\n",
       "    }\n",
       "\n",
       "    .dataframe thead th {\n",
       "        text-align: right;\n",
       "    }\n",
       "</style>\n",
       "<table border=\"1\" class=\"dataframe\">\n",
       "  <thead>\n",
       "    <tr style=\"text-align: right;\">\n",
       "      <th></th>\n",
       "      <th>SEQN</th>\n",
       "      <th>ALQ101</th>\n",
       "      <th>ALQ110</th>\n",
       "      <th>ALQ130</th>\n",
       "      <th>SMQ020</th>\n",
       "      <th>RIAGENDR</th>\n",
       "      <th>RIDAGEYR</th>\n",
       "      <th>RIDRETH1</th>\n",
       "      <th>DMDCITZN</th>\n",
       "      <th>DMDEDUC2</th>\n",
       "      <th>...</th>\n",
       "      <th>BPXSY2</th>\n",
       "      <th>BPXDI2</th>\n",
       "      <th>BMXWT</th>\n",
       "      <th>BMXHT</th>\n",
       "      <th>BMXBMI</th>\n",
       "      <th>BMXLEG</th>\n",
       "      <th>BMXARML</th>\n",
       "      <th>BMXARMC</th>\n",
       "      <th>BMXWAIST</th>\n",
       "      <th>HIQ210</th>\n",
       "    </tr>\n",
       "  </thead>\n",
       "  <tbody>\n",
       "    <tr>\n",
       "      <th>0</th>\n",
       "      <td>83732</td>\n",
       "      <td>1.0</td>\n",
       "      <td>NaN</td>\n",
       "      <td>1.0</td>\n",
       "      <td>1</td>\n",
       "      <td>1</td>\n",
       "      <td>62</td>\n",
       "      <td>3</td>\n",
       "      <td>1.0</td>\n",
       "      <td>5.0</td>\n",
       "      <td>...</td>\n",
       "      <td>124.0</td>\n",
       "      <td>64.0</td>\n",
       "      <td>94.8</td>\n",
       "      <td>184.5</td>\n",
       "      <td>27.8</td>\n",
       "      <td>43.3</td>\n",
       "      <td>43.6</td>\n",
       "      <td>35.9</td>\n",
       "      <td>101.1</td>\n",
       "      <td>2.0</td>\n",
       "    </tr>\n",
       "    <tr>\n",
       "      <th>1</th>\n",
       "      <td>83733</td>\n",
       "      <td>1.0</td>\n",
       "      <td>NaN</td>\n",
       "      <td>6.0</td>\n",
       "      <td>1</td>\n",
       "      <td>1</td>\n",
       "      <td>53</td>\n",
       "      <td>3</td>\n",
       "      <td>2.0</td>\n",
       "      <td>3.0</td>\n",
       "      <td>...</td>\n",
       "      <td>140.0</td>\n",
       "      <td>88.0</td>\n",
       "      <td>90.4</td>\n",
       "      <td>171.4</td>\n",
       "      <td>30.8</td>\n",
       "      <td>38.0</td>\n",
       "      <td>40.0</td>\n",
       "      <td>33.2</td>\n",
       "      <td>107.9</td>\n",
       "      <td>NaN</td>\n",
       "    </tr>\n",
       "    <tr>\n",
       "      <th>2</th>\n",
       "      <td>83734</td>\n",
       "      <td>1.0</td>\n",
       "      <td>NaN</td>\n",
       "      <td>NaN</td>\n",
       "      <td>1</td>\n",
       "      <td>1</td>\n",
       "      <td>78</td>\n",
       "      <td>3</td>\n",
       "      <td>1.0</td>\n",
       "      <td>3.0</td>\n",
       "      <td>...</td>\n",
       "      <td>132.0</td>\n",
       "      <td>44.0</td>\n",
       "      <td>83.4</td>\n",
       "      <td>170.1</td>\n",
       "      <td>28.8</td>\n",
       "      <td>35.6</td>\n",
       "      <td>37.0</td>\n",
       "      <td>31.0</td>\n",
       "      <td>116.5</td>\n",
       "      <td>2.0</td>\n",
       "    </tr>\n",
       "    <tr>\n",
       "      <th>3</th>\n",
       "      <td>83735</td>\n",
       "      <td>2.0</td>\n",
       "      <td>1.0</td>\n",
       "      <td>1.0</td>\n",
       "      <td>2</td>\n",
       "      <td>2</td>\n",
       "      <td>56</td>\n",
       "      <td>3</td>\n",
       "      <td>1.0</td>\n",
       "      <td>5.0</td>\n",
       "      <td>...</td>\n",
       "      <td>134.0</td>\n",
       "      <td>68.0</td>\n",
       "      <td>109.8</td>\n",
       "      <td>160.9</td>\n",
       "      <td>42.4</td>\n",
       "      <td>38.5</td>\n",
       "      <td>37.7</td>\n",
       "      <td>38.3</td>\n",
       "      <td>110.1</td>\n",
       "      <td>2.0</td>\n",
       "    </tr>\n",
       "    <tr>\n",
       "      <th>4</th>\n",
       "      <td>83736</td>\n",
       "      <td>2.0</td>\n",
       "      <td>1.0</td>\n",
       "      <td>1.0</td>\n",
       "      <td>2</td>\n",
       "      <td>2</td>\n",
       "      <td>42</td>\n",
       "      <td>4</td>\n",
       "      <td>1.0</td>\n",
       "      <td>4.0</td>\n",
       "      <td>...</td>\n",
       "      <td>114.0</td>\n",
       "      <td>54.0</td>\n",
       "      <td>55.2</td>\n",
       "      <td>164.9</td>\n",
       "      <td>20.3</td>\n",
       "      <td>37.4</td>\n",
       "      <td>36.0</td>\n",
       "      <td>27.2</td>\n",
       "      <td>80.4</td>\n",
       "      <td>2.0</td>\n",
       "    </tr>\n",
       "  </tbody>\n",
       "</table>\n",
       "<p>5 rows × 28 columns</p>\n",
       "</div>"
      ],
      "text/plain": [
       "    SEQN  ALQ101  ALQ110  ALQ130  SMQ020  RIAGENDR  RIDAGEYR  RIDRETH1  \\\n",
       "0  83732     1.0     NaN     1.0       1         1        62         3   \n",
       "1  83733     1.0     NaN     6.0       1         1        53         3   \n",
       "2  83734     1.0     NaN     NaN       1         1        78         3   \n",
       "3  83735     2.0     1.0     1.0       2         2        56         3   \n",
       "4  83736     2.0     1.0     1.0       2         2        42         4   \n",
       "\n",
       "   DMDCITZN  DMDEDUC2  ...  BPXSY2  BPXDI2  BMXWT  BMXHT  BMXBMI  BMXLEG  \\\n",
       "0       1.0       5.0  ...   124.0    64.0   94.8  184.5    27.8    43.3   \n",
       "1       2.0       3.0  ...   140.0    88.0   90.4  171.4    30.8    38.0   \n",
       "2       1.0       3.0  ...   132.0    44.0   83.4  170.1    28.8    35.6   \n",
       "3       1.0       5.0  ...   134.0    68.0  109.8  160.9    42.4    38.5   \n",
       "4       1.0       4.0  ...   114.0    54.0   55.2  164.9    20.3    37.4   \n",
       "\n",
       "   BMXARML  BMXARMC  BMXWAIST  HIQ210  \n",
       "0     43.6     35.9     101.1     2.0  \n",
       "1     40.0     33.2     107.9     NaN  \n",
       "2     37.0     31.0     116.5     2.0  \n",
       "3     37.7     38.3     110.1     2.0  \n",
       "4     36.0     27.2      80.4     2.0  \n",
       "\n",
       "[5 rows x 28 columns]"
      ]
     },
     "execution_count": 12,
     "metadata": {},
     "output_type": "execute_result"
    }
   ],
   "source": [
    "df.head()"
   ]
  },
  {
   "cell_type": "code",
   "execution_count": 13,
   "id": "00fa9c1a",
   "metadata": {},
   "outputs": [],
   "source": [
    "#separating the female and male and calcualtin the mean and the std of the BMI\n",
    "female=df[df.RIAGENDR==2]\n",
    "male = df[df.RIAGENDR==1]"
   ]
  },
  {
   "cell_type": "code",
   "execution_count": 14,
   "id": "c2b0c3c8",
   "metadata": {},
   "outputs": [
    {
     "data": {
      "text/plain": [
       "(2976, 29.939945652173996, 7.75331880954568)"
      ]
     },
     "execution_count": 14,
     "metadata": {},
     "output_type": "execute_result"
    }
   ],
   "source": [
    "#for female\n",
    "n=len(female)\n",
    "mean = female.BMXBMI.mean()\n",
    "std = female.BMXBMI.std()\n",
    "(n,mean,std)"
   ]
  },
  {
   "cell_type": "code",
   "execution_count": 15,
   "id": "1dfa71cf",
   "metadata": {},
   "outputs": [
    {
     "data": {
      "text/plain": [
       "(2759, 28.778072111846985, 6.252567616801485)"
      ]
     },
     "execution_count": 15,
     "metadata": {},
     "output_type": "execute_result"
    }
   ],
   "source": [
    "# for male\n",
    "n=len(male)\n",
    "mean = male.BMXBMI.mean()\n",
    "std = male.BMXBMI.std()\n",
    "(n,mean,std)"
   ]
  },
  {
   "cell_type": "code",
   "execution_count": 16,
   "id": "2b7291f1",
   "metadata": {},
   "outputs": [
    {
     "data": {
      "text/plain": [
       "(6.1755933531383205, 6.591544431126401e-10)"
      ]
     },
     "execution_count": 16,
     "metadata": {},
     "output_type": "execute_result"
    }
   ],
   "source": [
    "sm.stats.ztest(female[\"BMXBMI\"].dropna(), male[\"BMXBMI\"].dropna(),alternative='two-sided')"
   ]
  },
  {
   "cell_type": "markdown",
   "id": "ed0f7318",
   "metadata": {},
   "source": [
    "Conclusion: Since the p-value (6.59e-10) is extremely small, we can reject the Null hypothesis that the mean BMI of males is the same as that of females."
   ]
  }
 ],
 "metadata": {
  "kernelspec": {
   "display_name": "Python 3",
   "language": "python",
   "name": "python3"
  },
  "language_info": {
   "codemirror_mode": {
    "name": "ipython",
    "version": 3
   },
   "file_extension": ".py",
   "mimetype": "text/x-python",
   "name": "python",
   "nbconvert_exporter": "python",
   "pygments_lexer": "ipython3",
   "version": "3.8.8"
  }
 },
 "nbformat": 4,
 "nbformat_minor": 5
}
